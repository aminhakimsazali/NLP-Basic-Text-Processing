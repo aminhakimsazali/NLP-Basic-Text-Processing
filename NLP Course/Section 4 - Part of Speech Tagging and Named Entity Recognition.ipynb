{
 "cells": [
  {
   "cell_type": "markdown",
   "id": "399890db",
   "metadata": {},
   "source": [
    "### POS Tagging"
   ]
  },
  {
   "cell_type": "code",
   "execution_count": 2,
   "id": "5be73af4",
   "metadata": {},
   "outputs": [],
   "source": [
    "import spacy\n",
    "nlp = spacy.load(\"en_core_web_sm\")"
   ]
  },
  {
   "cell_type": "code",
   "execution_count": 3,
   "id": "fdba4954",
   "metadata": {},
   "outputs": [],
   "source": [
    "doc = nlp(u\"The quick brown fox jumped over the lazy dog's bag\")"
   ]
  },
  {
   "cell_type": "code",
   "execution_count": 4,
   "id": "5109fbc7",
   "metadata": {},
   "outputs": [
    {
     "data": {
      "text/plain": [
       "('VERB', 'VBD')"
      ]
     },
     "execution_count": 4,
     "metadata": {},
     "output_type": "execute_result"
    }
   ],
   "source": [
    "doc[4].pos_, doc[4].tag_"
   ]
  },
  {
   "cell_type": "code",
   "execution_count": 5,
   "id": "7af22db8",
   "metadata": {},
   "outputs": [
    {
     "name": "stdout",
     "output_type": "stream",
     "text": [
      "Text\t   POS\tFine Grained POS  Explaination\n",
      "The        DET                DT determiner\n",
      "quick      ADJ                JJ adjective (English), other noun-modifier (Chinese)\n",
      "brown      ADJ                JJ adjective (English), other noun-modifier (Chinese)\n",
      "fox        NOUN               NN noun, singular or mass\n",
      "jumped     VERB              VBD verb, past tense\n",
      "over       ADP                IN conjunction, subordinating or preposition\n",
      "the        DET                DT determiner\n",
      "lazy       ADJ                JJ adjective (English), other noun-modifier (Chinese)\n",
      "dog        NOUN               NN noun, singular or mass\n",
      "'s         PART              POS possessive ending\n",
      "bag        NOUN               NN noun, singular or mass\n"
     ]
    }
   ],
   "source": [
    "print(f\"Text\\t   POS\\tFine Grained POS  Explaination\")\n",
    "for token in doc:\n",
    "    print(f\"{token.text:{10}} {token.pos_:{5}} {token.tag_:>{15}} { spacy.explain(token.tag_)}\")"
   ]
  },
  {
   "cell_type": "code",
   "execution_count": 6,
   "id": "e01b1304",
   "metadata": {},
   "outputs": [],
   "source": [
    "spacy.explain(doc.vocab[10])"
   ]
  },
  {
   "cell_type": "code",
   "execution_count": 7,
   "id": "a6f58be4",
   "metadata": {},
   "outputs": [
    {
     "data": {
      "text/plain": [
       "('NN', 'noun, singular or mass')"
      ]
     },
     "execution_count": 7,
     "metadata": {},
     "output_type": "execute_result"
    }
   ],
   "source": [
    "doc[10].tag_, spacy.explain(doc[10].tag_)"
   ]
  },
  {
   "cell_type": "code",
   "execution_count": 8,
   "id": "7ec9f685",
   "metadata": {},
   "outputs": [
    {
     "name": "stdout",
     "output_type": "stream",
     "text": [
      "read       VERB     VBP    verb, non-3rd person singular present\n"
     ]
    }
   ],
   "source": [
    "doc = nlp(u'I read books on NLP.')\n",
    "r = doc[1]\n",
    "\n",
    "print(f'{r.text:{10}} {r.pos_:{8}} {r.tag_:{6}} {spacy.explain(r.tag_)}')"
   ]
  },
  {
   "cell_type": "code",
   "execution_count": 9,
   "id": "916a8a8e",
   "metadata": {},
   "outputs": [
    {
     "name": "stdout",
     "output_type": "stream",
     "text": [
      "read       VERB     VBP    verb, non-3rd person singular present\n"
     ]
    }
   ],
   "source": [
    "doc = nlp(u'I read a book on NLP.')\n",
    "r = doc[1]\n",
    "\n",
    "print(f'{r.text:{10}} {r.pos_:{8}} {r.tag_:{6}} {spacy.explain(r.tag_)}')"
   ]
  },
  {
   "cell_type": "code",
   "execution_count": 10,
   "id": "113d5814",
   "metadata": {},
   "outputs": [
    {
     "data": {
      "text/plain": [
       "{90: 2, 84: 3, 92: 3, 100: 1, 85: 1, 94: 1, 97: 1}"
      ]
     },
     "execution_count": 10,
     "metadata": {},
     "output_type": "execute_result"
    }
   ],
   "source": [
    "doc =  nlp(u\"The quick brown fox jumped over the lazy dog's back.\")\n",
    "POS_counts  = doc.count_by(spacy.attrs.POS)\n",
    "POS_counts"
   ]
  },
  {
   "cell_type": "code",
   "execution_count": 11,
   "id": "31e82f5e",
   "metadata": {},
   "outputs": [
    {
     "name": "stdout",
     "output_type": "stream",
     "text": [
      "84 3 ADJ\n",
      "85 1 ADP\n",
      "90 2 DET\n",
      "92 3 NOUN\n",
      "94 1 PART\n",
      "97 1 PUNCT\n",
      "100 1 VERB\n"
     ]
    }
   ],
   "source": [
    "# Calculate the POS tagging in the document\n",
    "for k,v in sorted(POS_counts.items()):\n",
    "    print(k,v, doc.vocab[k].text)"
   ]
  },
  {
   "cell_type": "code",
   "execution_count": 12,
   "id": "f635f6d1",
   "metadata": {},
   "outputs": [
    {
     "name": "stdout",
     "output_type": "stream",
     "text": [
      "                  74  1 POS   possessive ending\n",
      " 1292078113972184607  1 IN    conjunction, subordinating or preposition\n",
      "10554686591937588953  3 JJ    adjective (English), other noun-modifier (Chinese)\n",
      "12646065887601541794  1 .     punctuation mark, sentence closer\n",
      "15267657372422890137  2 DT    determiner\n",
      "15308085513773655218  3 NN    noun, singular or mass\n",
      "17109001835818727656  1 VBD   verb, past tense\n"
     ]
    }
   ],
   "source": [
    "# Calculate the Fine grain POS tagging in the document\n",
    "TAG_counts  = doc.count_by(spacy.attrs.TAG)\n",
    "TAG_counts\n",
    "for k,v in sorted(TAG_counts.items()):\n",
    "    print(f\"{k:{20}} {v:{2}} {doc.vocab[k].text:{5}} {spacy.explain(doc.vocab[k].text)}\")"
   ]
  },
  {
   "cell_type": "markdown",
   "id": "a5c1892c",
   "metadata": {},
   "source": [
    "### Visualize POS"
   ]
  },
  {
   "cell_type": "code",
   "execution_count": 13,
   "id": "659e1901",
   "metadata": {},
   "outputs": [],
   "source": [
    "from spacy import displacy"
   ]
  },
  {
   "cell_type": "code",
   "execution_count": 14,
   "id": "9a6d4251",
   "metadata": {},
   "outputs": [],
   "source": [
    "doc = nlp(u\"The quick brown fox jumped over the lazy dog's bag\")"
   ]
  },
  {
   "cell_type": "code",
   "execution_count": 15,
   "id": "9696d88d",
   "metadata": {},
   "outputs": [
    {
     "data": {
      "text/html": [
       "<span class=\"tex2jax_ignore\"><svg xmlns=\"http://www.w3.org/2000/svg\" xmlns:xlink=\"http://www.w3.org/1999/xlink\" xml:lang=\"en\" id=\"d6c1ceada9454467beb3cc64c8a79186-0\" class=\"displacy\" width=\"1975\" height=\"487.0\" direction=\"ltr\" style=\"max-width: none; height: 487.0px; color: #000000; background: #ffffff; font-family: Arial; direction: ltr\">\n",
       "<text class=\"displacy-token\" fill=\"currentColor\" text-anchor=\"middle\" y=\"397.0\">\n",
       "    <tspan class=\"displacy-word\" fill=\"currentColor\" x=\"50\">The</tspan>\n",
       "    <tspan class=\"displacy-tag\" dy=\"2em\" fill=\"currentColor\" x=\"50\">DET</tspan>\n",
       "</text>\n",
       "\n",
       "<text class=\"displacy-token\" fill=\"currentColor\" text-anchor=\"middle\" y=\"397.0\">\n",
       "    <tspan class=\"displacy-word\" fill=\"currentColor\" x=\"225\">quick</tspan>\n",
       "    <tspan class=\"displacy-tag\" dy=\"2em\" fill=\"currentColor\" x=\"225\">ADJ</tspan>\n",
       "</text>\n",
       "\n",
       "<text class=\"displacy-token\" fill=\"currentColor\" text-anchor=\"middle\" y=\"397.0\">\n",
       "    <tspan class=\"displacy-word\" fill=\"currentColor\" x=\"400\">brown</tspan>\n",
       "    <tspan class=\"displacy-tag\" dy=\"2em\" fill=\"currentColor\" x=\"400\">ADJ</tspan>\n",
       "</text>\n",
       "\n",
       "<text class=\"displacy-token\" fill=\"currentColor\" text-anchor=\"middle\" y=\"397.0\">\n",
       "    <tspan class=\"displacy-word\" fill=\"currentColor\" x=\"575\">fox</tspan>\n",
       "    <tspan class=\"displacy-tag\" dy=\"2em\" fill=\"currentColor\" x=\"575\">NOUN</tspan>\n",
       "</text>\n",
       "\n",
       "<text class=\"displacy-token\" fill=\"currentColor\" text-anchor=\"middle\" y=\"397.0\">\n",
       "    <tspan class=\"displacy-word\" fill=\"currentColor\" x=\"750\">jumped</tspan>\n",
       "    <tspan class=\"displacy-tag\" dy=\"2em\" fill=\"currentColor\" x=\"750\">VERB</tspan>\n",
       "</text>\n",
       "\n",
       "<text class=\"displacy-token\" fill=\"currentColor\" text-anchor=\"middle\" y=\"397.0\">\n",
       "    <tspan class=\"displacy-word\" fill=\"currentColor\" x=\"925\">over</tspan>\n",
       "    <tspan class=\"displacy-tag\" dy=\"2em\" fill=\"currentColor\" x=\"925\">ADP</tspan>\n",
       "</text>\n",
       "\n",
       "<text class=\"displacy-token\" fill=\"currentColor\" text-anchor=\"middle\" y=\"397.0\">\n",
       "    <tspan class=\"displacy-word\" fill=\"currentColor\" x=\"1100\">the</tspan>\n",
       "    <tspan class=\"displacy-tag\" dy=\"2em\" fill=\"currentColor\" x=\"1100\">DET</tspan>\n",
       "</text>\n",
       "\n",
       "<text class=\"displacy-token\" fill=\"currentColor\" text-anchor=\"middle\" y=\"397.0\">\n",
       "    <tspan class=\"displacy-word\" fill=\"currentColor\" x=\"1275\">lazy</tspan>\n",
       "    <tspan class=\"displacy-tag\" dy=\"2em\" fill=\"currentColor\" x=\"1275\">ADJ</tspan>\n",
       "</text>\n",
       "\n",
       "<text class=\"displacy-token\" fill=\"currentColor\" text-anchor=\"middle\" y=\"397.0\">\n",
       "    <tspan class=\"displacy-word\" fill=\"currentColor\" x=\"1450\">dog</tspan>\n",
       "    <tspan class=\"displacy-tag\" dy=\"2em\" fill=\"currentColor\" x=\"1450\">NOUN</tspan>\n",
       "</text>\n",
       "\n",
       "<text class=\"displacy-token\" fill=\"currentColor\" text-anchor=\"middle\" y=\"397.0\">\n",
       "    <tspan class=\"displacy-word\" fill=\"currentColor\" x=\"1625\">'s</tspan>\n",
       "    <tspan class=\"displacy-tag\" dy=\"2em\" fill=\"currentColor\" x=\"1625\">PART</tspan>\n",
       "</text>\n",
       "\n",
       "<text class=\"displacy-token\" fill=\"currentColor\" text-anchor=\"middle\" y=\"397.0\">\n",
       "    <tspan class=\"displacy-word\" fill=\"currentColor\" x=\"1800\">bag</tspan>\n",
       "    <tspan class=\"displacy-tag\" dy=\"2em\" fill=\"currentColor\" x=\"1800\">NOUN</tspan>\n",
       "</text>\n",
       "\n",
       "<g class=\"displacy-arrow\">\n",
       "    <path class=\"displacy-arc\" id=\"arrow-d6c1ceada9454467beb3cc64c8a79186-0-0\" stroke-width=\"2px\" d=\"M70,352.0 C70,89.5 570.0,89.5 570.0,352.0\" fill=\"none\" stroke=\"currentColor\"/>\n",
       "    <text dy=\"1.25em\" style=\"font-size: 0.8em; letter-spacing: 1px\">\n",
       "        <textPath xlink:href=\"#arrow-d6c1ceada9454467beb3cc64c8a79186-0-0\" class=\"displacy-label\" startOffset=\"50%\" side=\"left\" fill=\"currentColor\" text-anchor=\"middle\">det</textPath>\n",
       "    </text>\n",
       "    <path class=\"displacy-arrowhead\" d=\"M70,354.0 L62,342.0 78,342.0\" fill=\"currentColor\"/>\n",
       "</g>\n",
       "\n",
       "<g class=\"displacy-arrow\">\n",
       "    <path class=\"displacy-arc\" id=\"arrow-d6c1ceada9454467beb3cc64c8a79186-0-1\" stroke-width=\"2px\" d=\"M245,352.0 C245,177.0 565.0,177.0 565.0,352.0\" fill=\"none\" stroke=\"currentColor\"/>\n",
       "    <text dy=\"1.25em\" style=\"font-size: 0.8em; letter-spacing: 1px\">\n",
       "        <textPath xlink:href=\"#arrow-d6c1ceada9454467beb3cc64c8a79186-0-1\" class=\"displacy-label\" startOffset=\"50%\" side=\"left\" fill=\"currentColor\" text-anchor=\"middle\">amod</textPath>\n",
       "    </text>\n",
       "    <path class=\"displacy-arrowhead\" d=\"M245,354.0 L237,342.0 253,342.0\" fill=\"currentColor\"/>\n",
       "</g>\n",
       "\n",
       "<g class=\"displacy-arrow\">\n",
       "    <path class=\"displacy-arc\" id=\"arrow-d6c1ceada9454467beb3cc64c8a79186-0-2\" stroke-width=\"2px\" d=\"M420,352.0 C420,264.5 560.0,264.5 560.0,352.0\" fill=\"none\" stroke=\"currentColor\"/>\n",
       "    <text dy=\"1.25em\" style=\"font-size: 0.8em; letter-spacing: 1px\">\n",
       "        <textPath xlink:href=\"#arrow-d6c1ceada9454467beb3cc64c8a79186-0-2\" class=\"displacy-label\" startOffset=\"50%\" side=\"left\" fill=\"currentColor\" text-anchor=\"middle\">amod</textPath>\n",
       "    </text>\n",
       "    <path class=\"displacy-arrowhead\" d=\"M420,354.0 L412,342.0 428,342.0\" fill=\"currentColor\"/>\n",
       "</g>\n",
       "\n",
       "<g class=\"displacy-arrow\">\n",
       "    <path class=\"displacy-arc\" id=\"arrow-d6c1ceada9454467beb3cc64c8a79186-0-3\" stroke-width=\"2px\" d=\"M595,352.0 C595,264.5 735.0,264.5 735.0,352.0\" fill=\"none\" stroke=\"currentColor\"/>\n",
       "    <text dy=\"1.25em\" style=\"font-size: 0.8em; letter-spacing: 1px\">\n",
       "        <textPath xlink:href=\"#arrow-d6c1ceada9454467beb3cc64c8a79186-0-3\" class=\"displacy-label\" startOffset=\"50%\" side=\"left\" fill=\"currentColor\" text-anchor=\"middle\">nsubj</textPath>\n",
       "    </text>\n",
       "    <path class=\"displacy-arrowhead\" d=\"M595,354.0 L587,342.0 603,342.0\" fill=\"currentColor\"/>\n",
       "</g>\n",
       "\n",
       "<g class=\"displacy-arrow\">\n",
       "    <path class=\"displacy-arc\" id=\"arrow-d6c1ceada9454467beb3cc64c8a79186-0-4\" stroke-width=\"2px\" d=\"M770,352.0 C770,264.5 910.0,264.5 910.0,352.0\" fill=\"none\" stroke=\"currentColor\"/>\n",
       "    <text dy=\"1.25em\" style=\"font-size: 0.8em; letter-spacing: 1px\">\n",
       "        <textPath xlink:href=\"#arrow-d6c1ceada9454467beb3cc64c8a79186-0-4\" class=\"displacy-label\" startOffset=\"50%\" side=\"left\" fill=\"currentColor\" text-anchor=\"middle\">prep</textPath>\n",
       "    </text>\n",
       "    <path class=\"displacy-arrowhead\" d=\"M910.0,354.0 L918.0,342.0 902.0,342.0\" fill=\"currentColor\"/>\n",
       "</g>\n",
       "\n",
       "<g class=\"displacy-arrow\">\n",
       "    <path class=\"displacy-arc\" id=\"arrow-d6c1ceada9454467beb3cc64c8a79186-0-5\" stroke-width=\"2px\" d=\"M1120,352.0 C1120,177.0 1440.0,177.0 1440.0,352.0\" fill=\"none\" stroke=\"currentColor\"/>\n",
       "    <text dy=\"1.25em\" style=\"font-size: 0.8em; letter-spacing: 1px\">\n",
       "        <textPath xlink:href=\"#arrow-d6c1ceada9454467beb3cc64c8a79186-0-5\" class=\"displacy-label\" startOffset=\"50%\" side=\"left\" fill=\"currentColor\" text-anchor=\"middle\">det</textPath>\n",
       "    </text>\n",
       "    <path class=\"displacy-arrowhead\" d=\"M1120,354.0 L1112,342.0 1128,342.0\" fill=\"currentColor\"/>\n",
       "</g>\n",
       "\n",
       "<g class=\"displacy-arrow\">\n",
       "    <path class=\"displacy-arc\" id=\"arrow-d6c1ceada9454467beb3cc64c8a79186-0-6\" stroke-width=\"2px\" d=\"M1295,352.0 C1295,264.5 1435.0,264.5 1435.0,352.0\" fill=\"none\" stroke=\"currentColor\"/>\n",
       "    <text dy=\"1.25em\" style=\"font-size: 0.8em; letter-spacing: 1px\">\n",
       "        <textPath xlink:href=\"#arrow-d6c1ceada9454467beb3cc64c8a79186-0-6\" class=\"displacy-label\" startOffset=\"50%\" side=\"left\" fill=\"currentColor\" text-anchor=\"middle\">amod</textPath>\n",
       "    </text>\n",
       "    <path class=\"displacy-arrowhead\" d=\"M1295,354.0 L1287,342.0 1303,342.0\" fill=\"currentColor\"/>\n",
       "</g>\n",
       "\n",
       "<g class=\"displacy-arrow\">\n",
       "    <path class=\"displacy-arc\" id=\"arrow-d6c1ceada9454467beb3cc64c8a79186-0-7\" stroke-width=\"2px\" d=\"M1470,352.0 C1470,177.0 1790.0,177.0 1790.0,352.0\" fill=\"none\" stroke=\"currentColor\"/>\n",
       "    <text dy=\"1.25em\" style=\"font-size: 0.8em; letter-spacing: 1px\">\n",
       "        <textPath xlink:href=\"#arrow-d6c1ceada9454467beb3cc64c8a79186-0-7\" class=\"displacy-label\" startOffset=\"50%\" side=\"left\" fill=\"currentColor\" text-anchor=\"middle\">poss</textPath>\n",
       "    </text>\n",
       "    <path class=\"displacy-arrowhead\" d=\"M1470,354.0 L1462,342.0 1478,342.0\" fill=\"currentColor\"/>\n",
       "</g>\n",
       "\n",
       "<g class=\"displacy-arrow\">\n",
       "    <path class=\"displacy-arc\" id=\"arrow-d6c1ceada9454467beb3cc64c8a79186-0-8\" stroke-width=\"2px\" d=\"M1470,352.0 C1470,264.5 1610.0,264.5 1610.0,352.0\" fill=\"none\" stroke=\"currentColor\"/>\n",
       "    <text dy=\"1.25em\" style=\"font-size: 0.8em; letter-spacing: 1px\">\n",
       "        <textPath xlink:href=\"#arrow-d6c1ceada9454467beb3cc64c8a79186-0-8\" class=\"displacy-label\" startOffset=\"50%\" side=\"left\" fill=\"currentColor\" text-anchor=\"middle\">case</textPath>\n",
       "    </text>\n",
       "    <path class=\"displacy-arrowhead\" d=\"M1610.0,354.0 L1618.0,342.0 1602.0,342.0\" fill=\"currentColor\"/>\n",
       "</g>\n",
       "\n",
       "<g class=\"displacy-arrow\">\n",
       "    <path class=\"displacy-arc\" id=\"arrow-d6c1ceada9454467beb3cc64c8a79186-0-9\" stroke-width=\"2px\" d=\"M945,352.0 C945,2.0 1800.0,2.0 1800.0,352.0\" fill=\"none\" stroke=\"currentColor\"/>\n",
       "    <text dy=\"1.25em\" style=\"font-size: 0.8em; letter-spacing: 1px\">\n",
       "        <textPath xlink:href=\"#arrow-d6c1ceada9454467beb3cc64c8a79186-0-9\" class=\"displacy-label\" startOffset=\"50%\" side=\"left\" fill=\"currentColor\" text-anchor=\"middle\">pobj</textPath>\n",
       "    </text>\n",
       "    <path class=\"displacy-arrowhead\" d=\"M1800.0,354.0 L1808.0,342.0 1792.0,342.0\" fill=\"currentColor\"/>\n",
       "</g>\n",
       "</svg></span>"
      ],
      "text/plain": [
       "<IPython.core.display.HTML object>"
      ]
     },
     "metadata": {},
     "output_type": "display_data"
    }
   ],
   "source": [
    "displacy.render(doc, style=\"dep\", jupyter = True)"
   ]
  },
  {
   "cell_type": "code",
   "execution_count": 16,
   "id": "7610a16e",
   "metadata": {},
   "outputs": [],
   "source": [
    "options = {'distance': 110, 'compact' : True , 'color' : 'black'}"
   ]
  },
  {
   "cell_type": "code",
   "execution_count": 17,
   "id": "1a5efcd1",
   "metadata": {},
   "outputs": [
    {
     "data": {
      "text/html": [
       "<span class=\"tex2jax_ignore\"><svg xmlns=\"http://www.w3.org/2000/svg\" xmlns:xlink=\"http://www.w3.org/1999/xlink\" xml:lang=\"en\" id=\"065917bea7724bcba021d468e85da311-0\" class=\"displacy\" width=\"1260\" height=\"357.0\" direction=\"ltr\" style=\"max-width: none; height: 357.0px; color: black; background: #ffffff; font-family: Arial; direction: ltr\">\n",
       "<text class=\"displacy-token\" fill=\"currentColor\" text-anchor=\"middle\" y=\"267.0\">\n",
       "    <tspan class=\"displacy-word\" fill=\"currentColor\" x=\"50\">The</tspan>\n",
       "    <tspan class=\"displacy-tag\" dy=\"2em\" fill=\"currentColor\" x=\"50\">DET</tspan>\n",
       "</text>\n",
       "\n",
       "<text class=\"displacy-token\" fill=\"currentColor\" text-anchor=\"middle\" y=\"267.0\">\n",
       "    <tspan class=\"displacy-word\" fill=\"currentColor\" x=\"160\">quick</tspan>\n",
       "    <tspan class=\"displacy-tag\" dy=\"2em\" fill=\"currentColor\" x=\"160\">ADJ</tspan>\n",
       "</text>\n",
       "\n",
       "<text class=\"displacy-token\" fill=\"currentColor\" text-anchor=\"middle\" y=\"267.0\">\n",
       "    <tspan class=\"displacy-word\" fill=\"currentColor\" x=\"270\">brown</tspan>\n",
       "    <tspan class=\"displacy-tag\" dy=\"2em\" fill=\"currentColor\" x=\"270\">ADJ</tspan>\n",
       "</text>\n",
       "\n",
       "<text class=\"displacy-token\" fill=\"currentColor\" text-anchor=\"middle\" y=\"267.0\">\n",
       "    <tspan class=\"displacy-word\" fill=\"currentColor\" x=\"380\">fox</tspan>\n",
       "    <tspan class=\"displacy-tag\" dy=\"2em\" fill=\"currentColor\" x=\"380\">NOUN</tspan>\n",
       "</text>\n",
       "\n",
       "<text class=\"displacy-token\" fill=\"currentColor\" text-anchor=\"middle\" y=\"267.0\">\n",
       "    <tspan class=\"displacy-word\" fill=\"currentColor\" x=\"490\">jumped</tspan>\n",
       "    <tspan class=\"displacy-tag\" dy=\"2em\" fill=\"currentColor\" x=\"490\">VERB</tspan>\n",
       "</text>\n",
       "\n",
       "<text class=\"displacy-token\" fill=\"currentColor\" text-anchor=\"middle\" y=\"267.0\">\n",
       "    <tspan class=\"displacy-word\" fill=\"currentColor\" x=\"600\">over</tspan>\n",
       "    <tspan class=\"displacy-tag\" dy=\"2em\" fill=\"currentColor\" x=\"600\">ADP</tspan>\n",
       "</text>\n",
       "\n",
       "<text class=\"displacy-token\" fill=\"currentColor\" text-anchor=\"middle\" y=\"267.0\">\n",
       "    <tspan class=\"displacy-word\" fill=\"currentColor\" x=\"710\">the</tspan>\n",
       "    <tspan class=\"displacy-tag\" dy=\"2em\" fill=\"currentColor\" x=\"710\">DET</tspan>\n",
       "</text>\n",
       "\n",
       "<text class=\"displacy-token\" fill=\"currentColor\" text-anchor=\"middle\" y=\"267.0\">\n",
       "    <tspan class=\"displacy-word\" fill=\"currentColor\" x=\"820\">lazy</tspan>\n",
       "    <tspan class=\"displacy-tag\" dy=\"2em\" fill=\"currentColor\" x=\"820\">ADJ</tspan>\n",
       "</text>\n",
       "\n",
       "<text class=\"displacy-token\" fill=\"currentColor\" text-anchor=\"middle\" y=\"267.0\">\n",
       "    <tspan class=\"displacy-word\" fill=\"currentColor\" x=\"930\">dog</tspan>\n",
       "    <tspan class=\"displacy-tag\" dy=\"2em\" fill=\"currentColor\" x=\"930\">NOUN</tspan>\n",
       "</text>\n",
       "\n",
       "<text class=\"displacy-token\" fill=\"currentColor\" text-anchor=\"middle\" y=\"267.0\">\n",
       "    <tspan class=\"displacy-word\" fill=\"currentColor\" x=\"1040\">'s</tspan>\n",
       "    <tspan class=\"displacy-tag\" dy=\"2em\" fill=\"currentColor\" x=\"1040\">PART</tspan>\n",
       "</text>\n",
       "\n",
       "<text class=\"displacy-token\" fill=\"currentColor\" text-anchor=\"middle\" y=\"267.0\">\n",
       "    <tspan class=\"displacy-word\" fill=\"currentColor\" x=\"1150\">bag</tspan>\n",
       "    <tspan class=\"displacy-tag\" dy=\"2em\" fill=\"currentColor\" x=\"1150\">NOUN</tspan>\n",
       "</text>\n",
       "\n",
       "<g class=\"displacy-arrow\">\n",
       "    <path class=\"displacy-arc\" id=\"arrow-065917bea7724bcba021d468e85da311-0-0\" stroke-width=\"2px\" d=\"M62,222.0 62,167.0 377.0,167.0 377.0,222.0\" fill=\"none\" stroke=\"currentColor\"/>\n",
       "    <text dy=\"1.25em\" style=\"font-size: 0.8em; letter-spacing: 1px\">\n",
       "        <textPath xlink:href=\"#arrow-065917bea7724bcba021d468e85da311-0-0\" class=\"displacy-label\" startOffset=\"50%\" side=\"left\" fill=\"currentColor\" text-anchor=\"middle\">det</textPath>\n",
       "    </text>\n",
       "    <path class=\"displacy-arrowhead\" d=\"M62,224.0 L58,216.0 66,216.0\" fill=\"currentColor\"/>\n",
       "</g>\n",
       "\n",
       "<g class=\"displacy-arrow\">\n",
       "    <path class=\"displacy-arc\" id=\"arrow-065917bea7724bcba021d468e85da311-0-1\" stroke-width=\"2px\" d=\"M172,222.0 172,185.33333333333334 374.0,185.33333333333334 374.0,222.0\" fill=\"none\" stroke=\"currentColor\"/>\n",
       "    <text dy=\"1.25em\" style=\"font-size: 0.8em; letter-spacing: 1px\">\n",
       "        <textPath xlink:href=\"#arrow-065917bea7724bcba021d468e85da311-0-1\" class=\"displacy-label\" startOffset=\"50%\" side=\"left\" fill=\"currentColor\" text-anchor=\"middle\">amod</textPath>\n",
       "    </text>\n",
       "    <path class=\"displacy-arrowhead\" d=\"M172,224.0 L168,216.0 176,216.0\" fill=\"currentColor\"/>\n",
       "</g>\n",
       "\n",
       "<g class=\"displacy-arrow\">\n",
       "    <path class=\"displacy-arc\" id=\"arrow-065917bea7724bcba021d468e85da311-0-2\" stroke-width=\"2px\" d=\"M282,222.0 282,203.66666666666666 371.0,203.66666666666666 371.0,222.0\" fill=\"none\" stroke=\"currentColor\"/>\n",
       "    <text dy=\"1.25em\" style=\"font-size: 0.8em; letter-spacing: 1px\">\n",
       "        <textPath xlink:href=\"#arrow-065917bea7724bcba021d468e85da311-0-2\" class=\"displacy-label\" startOffset=\"50%\" side=\"left\" fill=\"currentColor\" text-anchor=\"middle\">amod</textPath>\n",
       "    </text>\n",
       "    <path class=\"displacy-arrowhead\" d=\"M282,224.0 L278,216.0 286,216.0\" fill=\"currentColor\"/>\n",
       "</g>\n",
       "\n",
       "<g class=\"displacy-arrow\">\n",
       "    <path class=\"displacy-arc\" id=\"arrow-065917bea7724bcba021d468e85da311-0-3\" stroke-width=\"2px\" d=\"M392,222.0 392,203.66666666666666 481.0,203.66666666666666 481.0,222.0\" fill=\"none\" stroke=\"currentColor\"/>\n",
       "    <text dy=\"1.25em\" style=\"font-size: 0.8em; letter-spacing: 1px\">\n",
       "        <textPath xlink:href=\"#arrow-065917bea7724bcba021d468e85da311-0-3\" class=\"displacy-label\" startOffset=\"50%\" side=\"left\" fill=\"currentColor\" text-anchor=\"middle\">nsubj</textPath>\n",
       "    </text>\n",
       "    <path class=\"displacy-arrowhead\" d=\"M392,224.0 L388,216.0 396,216.0\" fill=\"currentColor\"/>\n",
       "</g>\n",
       "\n",
       "<g class=\"displacy-arrow\">\n",
       "    <path class=\"displacy-arc\" id=\"arrow-065917bea7724bcba021d468e85da311-0-4\" stroke-width=\"2px\" d=\"M502,222.0 502,203.66666666666666 591.0,203.66666666666666 591.0,222.0\" fill=\"none\" stroke=\"currentColor\"/>\n",
       "    <text dy=\"1.25em\" style=\"font-size: 0.8em; letter-spacing: 1px\">\n",
       "        <textPath xlink:href=\"#arrow-065917bea7724bcba021d468e85da311-0-4\" class=\"displacy-label\" startOffset=\"50%\" side=\"left\" fill=\"currentColor\" text-anchor=\"middle\">prep</textPath>\n",
       "    </text>\n",
       "    <path class=\"displacy-arrowhead\" d=\"M591.0,224.0 L595.0,216.0 587.0,216.0\" fill=\"currentColor\"/>\n",
       "</g>\n",
       "\n",
       "<g class=\"displacy-arrow\">\n",
       "    <path class=\"displacy-arc\" id=\"arrow-065917bea7724bcba021d468e85da311-0-5\" stroke-width=\"2px\" d=\"M722,222.0 722,185.33333333333334 924.0,185.33333333333334 924.0,222.0\" fill=\"none\" stroke=\"currentColor\"/>\n",
       "    <text dy=\"1.25em\" style=\"font-size: 0.8em; letter-spacing: 1px\">\n",
       "        <textPath xlink:href=\"#arrow-065917bea7724bcba021d468e85da311-0-5\" class=\"displacy-label\" startOffset=\"50%\" side=\"left\" fill=\"currentColor\" text-anchor=\"middle\">det</textPath>\n",
       "    </text>\n",
       "    <path class=\"displacy-arrowhead\" d=\"M722,224.0 L718,216.0 726,216.0\" fill=\"currentColor\"/>\n",
       "</g>\n",
       "\n",
       "<g class=\"displacy-arrow\">\n",
       "    <path class=\"displacy-arc\" id=\"arrow-065917bea7724bcba021d468e85da311-0-6\" stroke-width=\"2px\" d=\"M832,222.0 832,203.66666666666666 921.0,203.66666666666666 921.0,222.0\" fill=\"none\" stroke=\"currentColor\"/>\n",
       "    <text dy=\"1.25em\" style=\"font-size: 0.8em; letter-spacing: 1px\">\n",
       "        <textPath xlink:href=\"#arrow-065917bea7724bcba021d468e85da311-0-6\" class=\"displacy-label\" startOffset=\"50%\" side=\"left\" fill=\"currentColor\" text-anchor=\"middle\">amod</textPath>\n",
       "    </text>\n",
       "    <path class=\"displacy-arrowhead\" d=\"M832,224.0 L828,216.0 836,216.0\" fill=\"currentColor\"/>\n",
       "</g>\n",
       "\n",
       "<g class=\"displacy-arrow\">\n",
       "    <path class=\"displacy-arc\" id=\"arrow-065917bea7724bcba021d468e85da311-0-7\" stroke-width=\"2px\" d=\"M942,222.0 942,185.33333333333334 1144.0,185.33333333333334 1144.0,222.0\" fill=\"none\" stroke=\"currentColor\"/>\n",
       "    <text dy=\"1.25em\" style=\"font-size: 0.8em; letter-spacing: 1px\">\n",
       "        <textPath xlink:href=\"#arrow-065917bea7724bcba021d468e85da311-0-7\" class=\"displacy-label\" startOffset=\"50%\" side=\"left\" fill=\"currentColor\" text-anchor=\"middle\">poss</textPath>\n",
       "    </text>\n",
       "    <path class=\"displacy-arrowhead\" d=\"M942,224.0 L938,216.0 946,216.0\" fill=\"currentColor\"/>\n",
       "</g>\n",
       "\n",
       "<g class=\"displacy-arrow\">\n",
       "    <path class=\"displacy-arc\" id=\"arrow-065917bea7724bcba021d468e85da311-0-8\" stroke-width=\"2px\" d=\"M942,222.0 942,203.66666666666666 1031.0,203.66666666666666 1031.0,222.0\" fill=\"none\" stroke=\"currentColor\"/>\n",
       "    <text dy=\"1.25em\" style=\"font-size: 0.8em; letter-spacing: 1px\">\n",
       "        <textPath xlink:href=\"#arrow-065917bea7724bcba021d468e85da311-0-8\" class=\"displacy-label\" startOffset=\"50%\" side=\"left\" fill=\"currentColor\" text-anchor=\"middle\">case</textPath>\n",
       "    </text>\n",
       "    <path class=\"displacy-arrowhead\" d=\"M1031.0,224.0 L1035.0,216.0 1027.0,216.0\" fill=\"currentColor\"/>\n",
       "</g>\n",
       "\n",
       "<g class=\"displacy-arrow\">\n",
       "    <path class=\"displacy-arc\" id=\"arrow-065917bea7724bcba021d468e85da311-0-9\" stroke-width=\"2px\" d=\"M612,222.0 612,148.66666666666669 1150.0,148.66666666666669 1150.0,222.0\" fill=\"none\" stroke=\"currentColor\"/>\n",
       "    <text dy=\"1.25em\" style=\"font-size: 0.8em; letter-spacing: 1px\">\n",
       "        <textPath xlink:href=\"#arrow-065917bea7724bcba021d468e85da311-0-9\" class=\"displacy-label\" startOffset=\"50%\" side=\"left\" fill=\"currentColor\" text-anchor=\"middle\">pobj</textPath>\n",
       "    </text>\n",
       "    <path class=\"displacy-arrowhead\" d=\"M1150.0,224.0 L1154.0,216.0 1146.0,216.0\" fill=\"currentColor\"/>\n",
       "</g>\n",
       "</svg></span>"
      ],
      "text/plain": [
       "<IPython.core.display.HTML object>"
      ]
     },
     "metadata": {},
     "output_type": "display_data"
    }
   ],
   "source": [
    "displacy.render(doc, style=\"dep\", jupyter = True,options= options)"
   ]
  },
  {
   "cell_type": "code",
   "execution_count": 20,
   "id": "31e21b33",
   "metadata": {},
   "outputs": [],
   "source": [
    "doc2 = nlp(u\"This is a sentence. This is another, possibly longer sentence.\")"
   ]
  },
  {
   "cell_type": "code",
   "execution_count": 21,
   "id": "f6ae7a5b",
   "metadata": {},
   "outputs": [],
   "source": [
    "spans = list(doc2.sents)"
   ]
  },
  {
   "cell_type": "code",
   "execution_count": 22,
   "id": "cbb2aa5d",
   "metadata": {
    "scrolled": true
   },
   "outputs": [
    {
     "data": {
      "text/html": [
       "<span class=\"tex2jax_ignore\"><svg xmlns=\"http://www.w3.org/2000/svg\" xmlns:xlink=\"http://www.w3.org/1999/xlink\" xml:lang=\"en\" id=\"65d21c87ddc645e395f3a20910a080da-0\" class=\"displacy\" width=\"750\" height=\"312.0\" direction=\"ltr\" style=\"max-width: none; height: 312.0px; color: #000000; background: #ffffff; font-family: Arial; direction: ltr\">\n",
       "<text class=\"displacy-token\" fill=\"currentColor\" text-anchor=\"middle\" y=\"222.0\">\n",
       "    <tspan class=\"displacy-word\" fill=\"currentColor\" x=\"50\">This</tspan>\n",
       "    <tspan class=\"displacy-tag\" dy=\"2em\" fill=\"currentColor\" x=\"50\">PRON</tspan>\n",
       "</text>\n",
       "\n",
       "<text class=\"displacy-token\" fill=\"currentColor\" text-anchor=\"middle\" y=\"222.0\">\n",
       "    <tspan class=\"displacy-word\" fill=\"currentColor\" x=\"225\">is</tspan>\n",
       "    <tspan class=\"displacy-tag\" dy=\"2em\" fill=\"currentColor\" x=\"225\">AUX</tspan>\n",
       "</text>\n",
       "\n",
       "<text class=\"displacy-token\" fill=\"currentColor\" text-anchor=\"middle\" y=\"222.0\">\n",
       "    <tspan class=\"displacy-word\" fill=\"currentColor\" x=\"400\">a</tspan>\n",
       "    <tspan class=\"displacy-tag\" dy=\"2em\" fill=\"currentColor\" x=\"400\">DET</tspan>\n",
       "</text>\n",
       "\n",
       "<text class=\"displacy-token\" fill=\"currentColor\" text-anchor=\"middle\" y=\"222.0\">\n",
       "    <tspan class=\"displacy-word\" fill=\"currentColor\" x=\"575\">sentence.</tspan>\n",
       "    <tspan class=\"displacy-tag\" dy=\"2em\" fill=\"currentColor\" x=\"575\">NOUN</tspan>\n",
       "</text>\n",
       "\n",
       "<g class=\"displacy-arrow\">\n",
       "    <path class=\"displacy-arc\" id=\"arrow-65d21c87ddc645e395f3a20910a080da-0-0\" stroke-width=\"2px\" d=\"M70,177.0 C70,89.5 220.0,89.5 220.0,177.0\" fill=\"none\" stroke=\"currentColor\"/>\n",
       "    <text dy=\"1.25em\" style=\"font-size: 0.8em; letter-spacing: 1px\">\n",
       "        <textPath xlink:href=\"#arrow-65d21c87ddc645e395f3a20910a080da-0-0\" class=\"displacy-label\" startOffset=\"50%\" side=\"left\" fill=\"currentColor\" text-anchor=\"middle\">nsubj</textPath>\n",
       "    </text>\n",
       "    <path class=\"displacy-arrowhead\" d=\"M70,179.0 L62,167.0 78,167.0\" fill=\"currentColor\"/>\n",
       "</g>\n",
       "\n",
       "<g class=\"displacy-arrow\">\n",
       "    <path class=\"displacy-arc\" id=\"arrow-65d21c87ddc645e395f3a20910a080da-0-1\" stroke-width=\"2px\" d=\"M420,177.0 C420,89.5 570.0,89.5 570.0,177.0\" fill=\"none\" stroke=\"currentColor\"/>\n",
       "    <text dy=\"1.25em\" style=\"font-size: 0.8em; letter-spacing: 1px\">\n",
       "        <textPath xlink:href=\"#arrow-65d21c87ddc645e395f3a20910a080da-0-1\" class=\"displacy-label\" startOffset=\"50%\" side=\"left\" fill=\"currentColor\" text-anchor=\"middle\">det</textPath>\n",
       "    </text>\n",
       "    <path class=\"displacy-arrowhead\" d=\"M420,179.0 L412,167.0 428,167.0\" fill=\"currentColor\"/>\n",
       "</g>\n",
       "\n",
       "<g class=\"displacy-arrow\">\n",
       "    <path class=\"displacy-arc\" id=\"arrow-65d21c87ddc645e395f3a20910a080da-0-2\" stroke-width=\"2px\" d=\"M245,177.0 C245,2.0 575.0,2.0 575.0,177.0\" fill=\"none\" stroke=\"currentColor\"/>\n",
       "    <text dy=\"1.25em\" style=\"font-size: 0.8em; letter-spacing: 1px\">\n",
       "        <textPath xlink:href=\"#arrow-65d21c87ddc645e395f3a20910a080da-0-2\" class=\"displacy-label\" startOffset=\"50%\" side=\"left\" fill=\"currentColor\" text-anchor=\"middle\">attr</textPath>\n",
       "    </text>\n",
       "    <path class=\"displacy-arrowhead\" d=\"M575.0,179.0 L583.0,167.0 567.0,167.0\" fill=\"currentColor\"/>\n",
       "</g>\n",
       "</svg>\n",
       "\n",
       "<svg xmlns=\"http://www.w3.org/2000/svg\" xmlns:xlink=\"http://www.w3.org/1999/xlink\" xml:lang=\"en\" id=\"65d21c87ddc645e395f3a20910a080da-1\" class=\"displacy\" width=\"1100\" height=\"399.5\" direction=\"ltr\" style=\"max-width: none; height: 399.5px; color: #000000; background: #ffffff; font-family: Arial; direction: ltr\">\n",
       "<text class=\"displacy-token\" fill=\"currentColor\" text-anchor=\"middle\" y=\"309.5\">\n",
       "    <tspan class=\"displacy-word\" fill=\"currentColor\" x=\"50\">This</tspan>\n",
       "    <tspan class=\"displacy-tag\" dy=\"2em\" fill=\"currentColor\" x=\"50\">PRON</tspan>\n",
       "</text>\n",
       "\n",
       "<text class=\"displacy-token\" fill=\"currentColor\" text-anchor=\"middle\" y=\"309.5\">\n",
       "    <tspan class=\"displacy-word\" fill=\"currentColor\" x=\"225\">is</tspan>\n",
       "    <tspan class=\"displacy-tag\" dy=\"2em\" fill=\"currentColor\" x=\"225\">AUX</tspan>\n",
       "</text>\n",
       "\n",
       "<text class=\"displacy-token\" fill=\"currentColor\" text-anchor=\"middle\" y=\"309.5\">\n",
       "    <tspan class=\"displacy-word\" fill=\"currentColor\" x=\"400\">another,</tspan>\n",
       "    <tspan class=\"displacy-tag\" dy=\"2em\" fill=\"currentColor\" x=\"400\">DET</tspan>\n",
       "</text>\n",
       "\n",
       "<text class=\"displacy-token\" fill=\"currentColor\" text-anchor=\"middle\" y=\"309.5\">\n",
       "    <tspan class=\"displacy-word\" fill=\"currentColor\" x=\"575\">possibly</tspan>\n",
       "    <tspan class=\"displacy-tag\" dy=\"2em\" fill=\"currentColor\" x=\"575\">ADV</tspan>\n",
       "</text>\n",
       "\n",
       "<text class=\"displacy-token\" fill=\"currentColor\" text-anchor=\"middle\" y=\"309.5\">\n",
       "    <tspan class=\"displacy-word\" fill=\"currentColor\" x=\"750\">longer</tspan>\n",
       "    <tspan class=\"displacy-tag\" dy=\"2em\" fill=\"currentColor\" x=\"750\">ADJ</tspan>\n",
       "</text>\n",
       "\n",
       "<text class=\"displacy-token\" fill=\"currentColor\" text-anchor=\"middle\" y=\"309.5\">\n",
       "    <tspan class=\"displacy-word\" fill=\"currentColor\" x=\"925\">sentence.</tspan>\n",
       "    <tspan class=\"displacy-tag\" dy=\"2em\" fill=\"currentColor\" x=\"925\">NOUN</tspan>\n",
       "</text>\n",
       "\n",
       "<g class=\"displacy-arrow\">\n",
       "    <path class=\"displacy-arc\" id=\"arrow-65d21c87ddc645e395f3a20910a080da-1-0\" stroke-width=\"2px\" d=\"M70,264.5 C70,177.0 215.0,177.0 215.0,264.5\" fill=\"none\" stroke=\"currentColor\"/>\n",
       "    <text dy=\"1.25em\" style=\"font-size: 0.8em; letter-spacing: 1px\">\n",
       "        <textPath xlink:href=\"#arrow-65d21c87ddc645e395f3a20910a080da-1-0\" class=\"displacy-label\" startOffset=\"50%\" side=\"left\" fill=\"currentColor\" text-anchor=\"middle\">nsubj</textPath>\n",
       "    </text>\n",
       "    <path class=\"displacy-arrowhead\" d=\"M70,266.5 L62,254.5 78,254.5\" fill=\"currentColor\"/>\n",
       "</g>\n",
       "\n",
       "<g class=\"displacy-arrow\">\n",
       "    <path class=\"displacy-arc\" id=\"arrow-65d21c87ddc645e395f3a20910a080da-1-1\" stroke-width=\"2px\" d=\"M420,264.5 C420,89.5 920.0,89.5 920.0,264.5\" fill=\"none\" stroke=\"currentColor\"/>\n",
       "    <text dy=\"1.25em\" style=\"font-size: 0.8em; letter-spacing: 1px\">\n",
       "        <textPath xlink:href=\"#arrow-65d21c87ddc645e395f3a20910a080da-1-1\" class=\"displacy-label\" startOffset=\"50%\" side=\"left\" fill=\"currentColor\" text-anchor=\"middle\">det</textPath>\n",
       "    </text>\n",
       "    <path class=\"displacy-arrowhead\" d=\"M420,266.5 L412,254.5 428,254.5\" fill=\"currentColor\"/>\n",
       "</g>\n",
       "\n",
       "<g class=\"displacy-arrow\">\n",
       "    <path class=\"displacy-arc\" id=\"arrow-65d21c87ddc645e395f3a20910a080da-1-2\" stroke-width=\"2px\" d=\"M595,264.5 C595,177.0 740.0,177.0 740.0,264.5\" fill=\"none\" stroke=\"currentColor\"/>\n",
       "    <text dy=\"1.25em\" style=\"font-size: 0.8em; letter-spacing: 1px\">\n",
       "        <textPath xlink:href=\"#arrow-65d21c87ddc645e395f3a20910a080da-1-2\" class=\"displacy-label\" startOffset=\"50%\" side=\"left\" fill=\"currentColor\" text-anchor=\"middle\">advmod</textPath>\n",
       "    </text>\n",
       "    <path class=\"displacy-arrowhead\" d=\"M595,266.5 L587,254.5 603,254.5\" fill=\"currentColor\"/>\n",
       "</g>\n",
       "\n",
       "<g class=\"displacy-arrow\">\n",
       "    <path class=\"displacy-arc\" id=\"arrow-65d21c87ddc645e395f3a20910a080da-1-3\" stroke-width=\"2px\" d=\"M770,264.5 C770,177.0 915.0,177.0 915.0,264.5\" fill=\"none\" stroke=\"currentColor\"/>\n",
       "    <text dy=\"1.25em\" style=\"font-size: 0.8em; letter-spacing: 1px\">\n",
       "        <textPath xlink:href=\"#arrow-65d21c87ddc645e395f3a20910a080da-1-3\" class=\"displacy-label\" startOffset=\"50%\" side=\"left\" fill=\"currentColor\" text-anchor=\"middle\">advmod</textPath>\n",
       "    </text>\n",
       "    <path class=\"displacy-arrowhead\" d=\"M770,266.5 L762,254.5 778,254.5\" fill=\"currentColor\"/>\n",
       "</g>\n",
       "\n",
       "<g class=\"displacy-arrow\">\n",
       "    <path class=\"displacy-arc\" id=\"arrow-65d21c87ddc645e395f3a20910a080da-1-4\" stroke-width=\"2px\" d=\"M245,264.5 C245,2.0 925.0,2.0 925.0,264.5\" fill=\"none\" stroke=\"currentColor\"/>\n",
       "    <text dy=\"1.25em\" style=\"font-size: 0.8em; letter-spacing: 1px\">\n",
       "        <textPath xlink:href=\"#arrow-65d21c87ddc645e395f3a20910a080da-1-4\" class=\"displacy-label\" startOffset=\"50%\" side=\"left\" fill=\"currentColor\" text-anchor=\"middle\">attr</textPath>\n",
       "    </text>\n",
       "    <path class=\"displacy-arrowhead\" d=\"M925.0,266.5 L933.0,254.5 917.0,254.5\" fill=\"currentColor\"/>\n",
       "</g>\n",
       "</svg></span>"
      ],
      "text/plain": [
       "<IPython.core.display.HTML object>"
      ]
     },
     "metadata": {},
     "output_type": "display_data"
    }
   ],
   "source": [
    "displacy.render(spans, jupyter = True)"
   ]
  },
  {
   "cell_type": "code",
   "execution_count": 37,
   "id": "8aff9b6e",
   "metadata": {},
   "outputs": [],
   "source": [
    "docs3 = \"\"\"\n",
    "Tesla CEO Elon Musk has acquired a 9% stake in Twitter to become its largest shareholder while joining other critics in questioning the social media platform’s dedication to free speech and the First Amendment.\n",
    "\n",
    "Musk’s ultimate aim in acquiring 73.5 million shares, worth about US$3bil (RM12.65bil), isn’t clear. Yet in late March Musk, who has 80 million Twitter followers and is active on the site, questioned free speech on Twitter and whether the platform is undermining democracy.\n",
    "\n",
    "In years past, Twitter and other social platforms have taken fire for allowing harmful speech ranging from incitement to violence to coordinated harassment and racial abuse. More recently, these platforms have made concerted efforts to rein in such behaviour, often drawing criticism similar to Musk’s from the political right. Both Twitter and Facebook faced blowback after suspending the accounts run by former US President Donald Trump following the Jan 6 Capitol insurrection last year.\n",
    "\n",
    "It’s unclear just when Musk bought the stake. A US Securities and Exchange Commission filing made public on Monday says the event triggering the filing happened March 14. Musk has also raised the possibility with his massive and loyal Twitter following, that he could create a rival social media network.\n",
    "\n",
    "Industry analysts and legal experts say Musk could begin advocating for changes at Twitter immediately if he chooses. In a note to investors, CFRA Analyst Angelo Zino wrote that Twitter could be viewed as an acquisition target because the value of its shares have been falling since early last year.\n",
    "\n",
    "Twitter co-founder Jack Dorsey stepped down as CEO in November. Musk’s stake in Twitter is now more than four times the size of Dorsey’s, who had been the largest individual shareholder.\n",
    "\n",
    "\n",
    "\"\"\""
   ]
  },
  {
   "cell_type": "code",
   "execution_count": 38,
   "id": "6b7309f1",
   "metadata": {},
   "outputs": [
    {
     "name": "stdout",
     "output_type": "stream",
     "text": [
      "\n",
      "Tesla CEO Elon Musk has acquired a 9% stake in Twitter to become its largest shareholder while joining other critics in questioning the social media platform’s dedication to free speech and the First Amendment.\n",
      "\n",
      "Musk’s ultimate aim in acquiring 73.5 million shares, worth about US$3bil (RM12.65bil), isn’t clear. Yet in late March Musk, who has 80 million Twitter followers and is active on the site, questioned free speech on Twitter and whether the platform is undermining democracy.\n",
      "\n",
      "In years past, Twitter and other social platforms have taken fire for allowing harmful speech ranging from incitement to violence to coordinated harassment and racial abuse. More recently, these platforms have made concerted efforts to rein in such behaviour, often drawing criticism similar to Musk’s from the political right. Both Twitter and Facebook faced blowback after suspending the accounts run by former US President Donald Trump following the Jan 6 Capitol insurrection last year.\n",
      "\n",
      "It’s unclear just when Musk bought the stake. A US Securities and Exchange Commission filing made public on Monday says the event triggering the filing happened March 14. Musk has also raised the possibility with his massive and loyal Twitter following, that he could create a rival social media network.\n",
      "\n",
      "Industry analysts and legal experts say Musk could begin advocating for changes at Twitter immediately if he chooses. In a note to investors, CFRA Analyst Angelo Zino wrote that Twitter could be viewed as an acquisition target because the value of its shares have been falling since early last year.\n",
      "\n",
      "Twitter co-founder Jack Dorsey stepped down as CEO in November. Musk’s stake in Twitter is now more than four times the size of Dorsey’s, who had been the largest individual shareholder.\n",
      "\n",
      "\n",
      "\n"
     ]
    }
   ],
   "source": [
    "print(docs3)"
   ]
  },
  {
   "cell_type": "code",
   "execution_count": 39,
   "id": "86b8e6ff",
   "metadata": {},
   "outputs": [],
   "source": [
    "docs3 = nlp(docs3)"
   ]
  },
  {
   "cell_type": "code",
   "execution_count": 40,
   "id": "d6d903eb",
   "metadata": {},
   "outputs": [
    {
     "name": "stdout",
     "output_type": "stream",
     "text": [
      "Text\t   POS\tFine Grained POS  Explaination\n",
      "\n",
      "          SPACE             _SP whitespace\n",
      "Tesla      PROPN             NNP noun, proper singular\n",
      "CEO        PROPN             NNP noun, proper singular\n",
      "Elon       PROPN             NNP noun, proper singular\n",
      "Musk       PROPN             NNP noun, proper singular\n",
      "has        AUX               VBZ verb, 3rd person singular present\n",
      "acquired   VERB              VBN verb, past participle\n",
      "a          DET                DT determiner\n",
      "9          NUM                CD cardinal number\n",
      "%          NOUN               NN noun, singular or mass\n",
      "stake      NOUN               NN noun, singular or mass\n",
      "in         ADP                IN conjunction, subordinating or preposition\n",
      "Twitter    PROPN             NNP noun, proper singular\n",
      "to         PART               TO infinitival \"to\"\n",
      "become     VERB               VB verb, base form\n",
      "its        PRON             PRP$ pronoun, possessive\n",
      "largest    ADJ               JJS adjective, superlative\n",
      "shareholder NOUN               NN noun, singular or mass\n",
      "while      SCONJ              IN conjunction, subordinating or preposition\n",
      "joining    VERB              VBG verb, gerund or present participle\n",
      "other      ADJ                JJ adjective (English), other noun-modifier (Chinese)\n",
      "critics    NOUN              NNS noun, plural\n",
      "in         ADP                IN conjunction, subordinating or preposition\n",
      "questioning VERB              VBG verb, gerund or present participle\n",
      "the        DET                DT determiner\n",
      "social     ADJ                JJ adjective (English), other noun-modifier (Chinese)\n",
      "media      NOUN              NNS noun, plural\n",
      "platform   NOUN               NN noun, singular or mass\n",
      "’s         PART              POS possessive ending\n",
      "dedication NOUN               NN noun, singular or mass\n",
      "to         ADP                IN conjunction, subordinating or preposition\n",
      "free       ADJ                JJ adjective (English), other noun-modifier (Chinese)\n",
      "speech     NOUN               NN noun, singular or mass\n",
      "and        CCONJ              CC conjunction, coordinating\n",
      "the        DET                DT determiner\n",
      "First      PROPN             NNP noun, proper singular\n",
      "Amendment  PROPN             NNP noun, proper singular\n",
      ".          PUNCT               . punctuation mark, sentence closer\n",
      "\n",
      "\n",
      "         SPACE             _SP whitespace\n",
      "Musk       PROPN             NNP noun, proper singular\n",
      "’s         PART              POS possessive ending\n",
      "ultimate   ADJ                JJ adjective (English), other noun-modifier (Chinese)\n",
      "aim        NOUN               NN noun, singular or mass\n",
      "in         ADP                IN conjunction, subordinating or preposition\n",
      "acquiring  VERB              VBG verb, gerund or present participle\n",
      "73.5       NUM                CD cardinal number\n",
      "million    NUM                CD cardinal number\n",
      "shares     NOUN              NNS noun, plural\n",
      ",          PUNCT               , punctuation mark, comma\n",
      "worth      ADJ                JJ adjective (English), other noun-modifier (Chinese)\n",
      "about      ADP                IN conjunction, subordinating or preposition\n",
      "US$        SYM                 $ symbol, currency\n",
      "3bil       PROPN             NNP noun, proper singular\n",
      "(          PUNCT           -LRB- left round bracket\n",
      "RM12.65bil PROPN             NNP noun, proper singular\n",
      ")          PUNCT           -RRB- right round bracket\n",
      ",          PUNCT               , punctuation mark, comma\n",
      "is         AUX               VBZ verb, 3rd person singular present\n",
      "n’t        PART               RB adverb\n",
      "clear      ADJ                JJ adjective (English), other noun-modifier (Chinese)\n",
      ".          PUNCT               . punctuation mark, sentence closer\n",
      "Yet        CCONJ              CC conjunction, coordinating\n",
      "in         ADP                IN conjunction, subordinating or preposition\n",
      "late       ADJ                JJ adjective (English), other noun-modifier (Chinese)\n",
      "March      PROPN             NNP noun, proper singular\n",
      "Musk       PROPN             NNP noun, proper singular\n",
      ",          PUNCT               , punctuation mark, comma\n",
      "who        PRON               WP wh-pronoun, personal\n",
      "has        VERB              VBZ verb, 3rd person singular present\n",
      "80         NUM                CD cardinal number\n",
      "million    NUM                CD cardinal number\n",
      "Twitter    PROPN             NNP noun, proper singular\n",
      "followers  NOUN              NNS noun, plural\n",
      "and        CCONJ              CC conjunction, coordinating\n",
      "is         AUX               VBZ verb, 3rd person singular present\n",
      "active     ADJ                JJ adjective (English), other noun-modifier (Chinese)\n",
      "on         ADP                IN conjunction, subordinating or preposition\n",
      "the        DET                DT determiner\n",
      "site       NOUN               NN noun, singular or mass\n",
      ",          PUNCT               , punctuation mark, comma\n",
      "questioned VERB              VBD verb, past tense\n",
      "free       ADJ                JJ adjective (English), other noun-modifier (Chinese)\n",
      "speech     NOUN               NN noun, singular or mass\n",
      "on         ADP                IN conjunction, subordinating or preposition\n",
      "Twitter    PROPN             NNP noun, proper singular\n",
      "and        CCONJ              CC conjunction, coordinating\n",
      "whether    SCONJ              IN conjunction, subordinating or preposition\n",
      "the        DET                DT determiner\n",
      "platform   NOUN               NN noun, singular or mass\n",
      "is         AUX               VBZ verb, 3rd person singular present\n",
      "undermining VERB              VBG verb, gerund or present participle\n",
      "democracy  NOUN               NN noun, singular or mass\n",
      ".          PUNCT               . punctuation mark, sentence closer\n",
      "\n",
      "\n",
      "         SPACE             _SP whitespace\n",
      "In         ADP                IN conjunction, subordinating or preposition\n",
      "years      NOUN              NNS noun, plural\n",
      "past       NOUN               NN noun, singular or mass\n",
      ",          PUNCT               , punctuation mark, comma\n",
      "Twitter    PROPN             NNP noun, proper singular\n",
      "and        CCONJ              CC conjunction, coordinating\n",
      "other      ADJ                JJ adjective (English), other noun-modifier (Chinese)\n",
      "social     ADJ                JJ adjective (English), other noun-modifier (Chinese)\n",
      "platforms  NOUN              NNS noun, plural\n",
      "have       AUX               VBP verb, non-3rd person singular present\n",
      "taken      VERB              VBN verb, past participle\n",
      "fire       NOUN               NN noun, singular or mass\n",
      "for        ADP                IN conjunction, subordinating or preposition\n",
      "allowing   VERB              VBG verb, gerund or present participle\n",
      "harmful    ADJ                JJ adjective (English), other noun-modifier (Chinese)\n",
      "speech     NOUN               NN noun, singular or mass\n",
      "ranging    VERB              VBG verb, gerund or present participle\n",
      "from       ADP                IN conjunction, subordinating or preposition\n",
      "incitement NOUN               NN noun, singular or mass\n",
      "to         PART               TO infinitival \"to\"\n",
      "violence   NOUN               NN noun, singular or mass\n",
      "to         ADP                IN conjunction, subordinating or preposition\n",
      "coordinated ADJ                JJ adjective (English), other noun-modifier (Chinese)\n",
      "harassment NOUN               NN noun, singular or mass\n",
      "and        CCONJ              CC conjunction, coordinating\n",
      "racial     ADJ                JJ adjective (English), other noun-modifier (Chinese)\n",
      "abuse      NOUN               NN noun, singular or mass\n",
      ".          PUNCT               . punctuation mark, sentence closer\n",
      "More       ADV               RBR adverb, comparative\n",
      "recently   ADV                RB adverb\n",
      ",          PUNCT               , punctuation mark, comma\n",
      "these      DET                DT determiner\n",
      "platforms  NOUN              NNS noun, plural\n",
      "have       AUX               VBP verb, non-3rd person singular present\n",
      "made       VERB              VBN verb, past participle\n",
      "concerted  ADJ                JJ adjective (English), other noun-modifier (Chinese)\n",
      "efforts    NOUN              NNS noun, plural\n",
      "to         PART               TO infinitival \"to\"\n",
      "rein       VERB               VB verb, base form\n",
      "in         ADP                RP adverb, particle\n",
      "such       ADJ                JJ adjective (English), other noun-modifier (Chinese)\n",
      "behaviour  NOUN               NN noun, singular or mass\n",
      ",          PUNCT               , punctuation mark, comma\n",
      "often      ADV                RB adverb\n",
      "drawing    VERB              VBG verb, gerund or present participle\n",
      "criticism  NOUN               NN noun, singular or mass\n",
      "similar    ADJ                JJ adjective (English), other noun-modifier (Chinese)\n",
      "to         ADP                IN conjunction, subordinating or preposition\n",
      "Musk       PROPN             NNP noun, proper singular\n",
      "’s         PUNCT              '' closing quotation mark\n",
      "from       ADP                IN conjunction, subordinating or preposition\n",
      "the        DET                DT determiner\n",
      "political  ADJ                JJ adjective (English), other noun-modifier (Chinese)\n",
      "right      NOUN               NN noun, singular or mass\n",
      ".          PUNCT               . punctuation mark, sentence closer\n",
      "Both       PRON               DT determiner\n",
      "Twitter    PROPN             NNP noun, proper singular\n",
      "and        CCONJ              CC conjunction, coordinating\n",
      "Facebook   PROPN             NNP noun, proper singular\n",
      "faced      VERB              VBD verb, past tense\n",
      "blowback   NOUN               NN noun, singular or mass\n",
      "after      ADP                IN conjunction, subordinating or preposition\n",
      "suspending VERB              VBG verb, gerund or present participle\n",
      "the        DET                DT determiner\n",
      "accounts   NOUN              NNS noun, plural\n",
      "run        VERB              VBN verb, past participle\n",
      "by         ADP                IN conjunction, subordinating or preposition\n",
      "former     ADJ                JJ adjective (English), other noun-modifier (Chinese)\n",
      "US         PROPN             NNP noun, proper singular\n",
      "President  PROPN             NNP noun, proper singular\n",
      "Donald     PROPN             NNP noun, proper singular\n",
      "Trump      PROPN             NNP noun, proper singular\n",
      "following  VERB              VBG verb, gerund or present participle\n",
      "the        DET                DT determiner\n",
      "Jan        PROPN             NNP noun, proper singular\n",
      "6          NUM                CD cardinal number\n",
      "Capitol    PROPN             NNP noun, proper singular\n",
      "insurrection NOUN               NN noun, singular or mass\n",
      "last       ADJ                JJ adjective (English), other noun-modifier (Chinese)\n",
      "year       NOUN               NN noun, singular or mass\n",
      ".          PUNCT               . punctuation mark, sentence closer\n",
      "\n",
      "\n",
      "         SPACE             _SP whitespace\n",
      "It         PRON              PRP pronoun, personal\n",
      "’s         VERB              VBZ verb, 3rd person singular present\n",
      "unclear    ADJ                JJ adjective (English), other noun-modifier (Chinese)\n",
      "just       ADV                RB adverb\n",
      "when       SCONJ             WRB wh-adverb\n",
      "Musk       PROPN             NNP noun, proper singular\n",
      "bought     VERB              VBD verb, past tense\n",
      "the        DET                DT determiner\n",
      "stake      NOUN               NN noun, singular or mass\n",
      ".          PUNCT               . punctuation mark, sentence closer\n",
      "A          DET                DT determiner\n",
      "US         PROPN             NNP noun, proper singular\n",
      "Securities PROPN            NNPS noun, proper plural\n",
      "and        CCONJ              CC conjunction, coordinating\n",
      "Exchange   PROPN             NNP noun, proper singular\n",
      "Commission PROPN             NNP noun, proper singular\n",
      "filing     NOUN               NN noun, singular or mass\n",
      "made       VERB              VBD verb, past tense\n",
      "public     ADJ                JJ adjective (English), other noun-modifier (Chinese)\n",
      "on         ADP                IN conjunction, subordinating or preposition\n",
      "Monday     PROPN             NNP noun, proper singular\n",
      "says       VERB              VBZ verb, 3rd person singular present\n",
      "the        DET                DT determiner\n",
      "event      NOUN               NN noun, singular or mass\n",
      "triggering VERB              VBG verb, gerund or present participle\n",
      "the        DET                DT determiner\n",
      "filing     NOUN               NN noun, singular or mass\n",
      "happened   VERB              VBD verb, past tense\n",
      "March      PROPN             NNP noun, proper singular\n",
      "14         NUM                CD cardinal number\n",
      ".          PUNCT               . punctuation mark, sentence closer\n",
      "Musk       PROPN             NNP noun, proper singular\n",
      "has        AUX               VBZ verb, 3rd person singular present\n",
      "also       ADV                RB adverb\n",
      "raised     VERB              VBN verb, past participle\n",
      "the        DET                DT determiner\n",
      "possibility NOUN               NN noun, singular or mass\n",
      "with       ADP                IN conjunction, subordinating or preposition\n",
      "his        PRON             PRP$ pronoun, possessive\n",
      "massive    ADJ                JJ adjective (English), other noun-modifier (Chinese)\n",
      "and        CCONJ              CC conjunction, coordinating\n",
      "loyal      ADJ                JJ adjective (English), other noun-modifier (Chinese)\n",
      "Twitter    PROPN             NNP noun, proper singular\n",
      "following  NOUN               NN noun, singular or mass\n",
      ",          PUNCT               , punctuation mark, comma\n",
      "that       SCONJ              IN conjunction, subordinating or preposition\n",
      "he         PRON              PRP pronoun, personal\n",
      "could      AUX                MD verb, modal auxiliary\n",
      "create     VERB               VB verb, base form\n",
      "a          DET                DT determiner\n",
      "rival      ADJ                JJ adjective (English), other noun-modifier (Chinese)\n",
      "social     ADJ                JJ adjective (English), other noun-modifier (Chinese)\n",
      "media      NOUN              NNS noun, plural\n",
      "network    NOUN               NN noun, singular or mass\n",
      ".          PUNCT               . punctuation mark, sentence closer\n",
      "\n",
      "\n",
      "         SPACE             _SP whitespace\n",
      "Industry   NOUN               NN noun, singular or mass\n",
      "analysts   NOUN              NNS noun, plural\n",
      "and        CCONJ              CC conjunction, coordinating\n",
      "legal      ADJ                JJ adjective (English), other noun-modifier (Chinese)\n",
      "experts    NOUN              NNS noun, plural\n",
      "say        VERB              VBP verb, non-3rd person singular present\n",
      "Musk       PROPN             NNP noun, proper singular\n",
      "could      AUX                MD verb, modal auxiliary\n",
      "begin      VERB               VB verb, base form\n",
      "advocating VERB              VBG verb, gerund or present participle\n",
      "for        ADP                IN conjunction, subordinating or preposition\n",
      "changes    NOUN              NNS noun, plural\n",
      "at         ADP                IN conjunction, subordinating or preposition\n",
      "Twitter    PROPN             NNP noun, proper singular\n",
      "immediately ADV                RB adverb\n",
      "if         SCONJ              IN conjunction, subordinating or preposition\n",
      "he         PRON              PRP pronoun, personal\n",
      "chooses    VERB              VBZ verb, 3rd person singular present\n",
      ".          PUNCT               . punctuation mark, sentence closer\n",
      "In         ADP                IN conjunction, subordinating or preposition\n",
      "a          DET                DT determiner\n",
      "note       NOUN               NN noun, singular or mass\n",
      "to         ADP                IN conjunction, subordinating or preposition\n",
      "investors  NOUN              NNS noun, plural\n",
      ",          PUNCT               , punctuation mark, comma\n",
      "CFRA       PROPN             NNP noun, proper singular\n",
      "Analyst    PROPN             NNP noun, proper singular\n",
      "Angelo     PROPN             NNP noun, proper singular\n",
      "Zino       PROPN             NNP noun, proper singular\n",
      "wrote      VERB              VBD verb, past tense\n",
      "that       SCONJ              IN conjunction, subordinating or preposition\n",
      "Twitter    PROPN             NNP noun, proper singular\n",
      "could      AUX                MD verb, modal auxiliary\n",
      "be         AUX                VB verb, base form\n",
      "viewed     VERB              VBN verb, past participle\n",
      "as         ADP                IN conjunction, subordinating or preposition\n",
      "an         DET                DT determiner\n",
      "acquisition NOUN               NN noun, singular or mass\n",
      "target     NOUN               NN noun, singular or mass\n",
      "because    SCONJ              IN conjunction, subordinating or preposition\n",
      "the        DET                DT determiner\n",
      "value      NOUN               NN noun, singular or mass\n",
      "of         ADP                IN conjunction, subordinating or preposition\n",
      "its        PRON             PRP$ pronoun, possessive\n",
      "shares     NOUN              NNS noun, plural\n",
      "have       AUX               VBP verb, non-3rd person singular present\n",
      "been       AUX               VBN verb, past participle\n",
      "falling    VERB              VBG verb, gerund or present participle\n",
      "since      SCONJ              IN conjunction, subordinating or preposition\n",
      "early      ADV                RB adverb\n",
      "last       ADJ                JJ adjective (English), other noun-modifier (Chinese)\n",
      "year       NOUN               NN noun, singular or mass\n",
      ".          PUNCT               . punctuation mark, sentence closer\n",
      "\n",
      "\n",
      "         SPACE             _SP whitespace\n",
      "Twitter    PROPN             NNP noun, proper singular\n",
      "co         NOUN               NN noun, singular or mass\n",
      "-          NOUN               NN noun, singular or mass\n",
      "founder    NOUN               NN noun, singular or mass\n",
      "Jack       PROPN             NNP noun, proper singular\n",
      "Dorsey     PROPN             NNP noun, proper singular\n",
      "stepped    VERB              VBD verb, past tense\n",
      "down       ADV                RB adverb\n",
      "as         ADP                IN conjunction, subordinating or preposition\n",
      "CEO        NOUN               NN noun, singular or mass\n",
      "in         ADP                IN conjunction, subordinating or preposition\n",
      "November   PROPN             NNP noun, proper singular\n",
      ".          PUNCT               . punctuation mark, sentence closer\n",
      "Musk       PROPN             NNP noun, proper singular\n",
      "’s         PART              POS possessive ending\n",
      "stake      NOUN               NN noun, singular or mass\n",
      "in         ADP                IN conjunction, subordinating or preposition\n",
      "Twitter    PROPN             NNP noun, proper singular\n",
      "is         AUX               VBZ verb, 3rd person singular present\n",
      "now        ADV                RB adverb\n",
      "more       ADJ               JJR adjective, comparative\n",
      "than       ADP                IN conjunction, subordinating or preposition\n",
      "four       NUM                CD cardinal number\n",
      "times      NOUN              NNS noun, plural\n",
      "the        DET                DT determiner\n",
      "size       NOUN               NN noun, singular or mass\n",
      "of         ADP                IN conjunction, subordinating or preposition\n",
      "Dorsey     PROPN             NNP noun, proper singular\n",
      "’s         PART              POS possessive ending\n",
      ",          PUNCT               , punctuation mark, comma\n",
      "who        PRON               WP wh-pronoun, personal\n",
      "had        AUX               VBD verb, past tense\n",
      "been       AUX               VBN verb, past participle\n",
      "the        DET                DT determiner\n",
      "largest    ADJ               JJS adjective, superlative\n",
      "individual ADJ                JJ adjective (English), other noun-modifier (Chinese)\n",
      "shareholder NOUN               NN noun, singular or mass\n",
      ".          PUNCT               . punctuation mark, sentence closer\n",
      "\n",
      "\n",
      "\n",
      "        SPACE             _SP whitespace\n"
     ]
    }
   ],
   "source": [
    "print(f\"Text\\t   POS\\tFine Grained POS  Explaination\")\n",
    "for token in docs3:\n",
    "    print(f\"{token.text:{10}} {token.pos_:{5}} {token.tag_:>{15}} { spacy.explain(token.tag_)}\")"
   ]
  },
  {
   "cell_type": "code",
   "execution_count": 41,
   "id": "f7616f70",
   "metadata": {},
   "outputs": [
    {
     "name": "stdout",
     "output_type": "stream",
     "text": [
      "Verbs in docs3: \n",
      "acquired   VERB              VBN verb, past participle\n",
      "become     VERB               VB verb, base form\n",
      "joining    VERB              VBG verb, gerund or present participle\n",
      "questioning VERB              VBG verb, gerund or present participle\n",
      "acquiring  VERB              VBG verb, gerund or present participle\n"
     ]
    }
   ],
   "source": [
    "print(\"Verbs in docs3: \")\n",
    "for token in docs3[:50]:\n",
    "    if token.pos_ == 'VERB':\n",
    "        print(f\"{token.text:{10}} {token.pos_:{5}} {token.tag_:>{15}} { spacy.explain(token.tag_)}\")"
   ]
  },
  {
   "cell_type": "code",
   "execution_count": 44,
   "id": "de0e4921",
   "metadata": {
    "scrolled": true
   },
   "outputs": [
    {
     "name": "stdout",
     "output_type": "stream",
     "text": [
      "Verbs in docs3: \n",
      "Tesla      PROPN             NNP noun, proper singular\n",
      "CEO        PROPN             NNP noun, proper singular\n",
      "Elon       PROPN             NNP noun, proper singular\n",
      "Musk       PROPN             NNP noun, proper singular\n",
      "Twitter    PROPN             NNP noun, proper singular\n",
      "First      PROPN             NNP noun, proper singular\n",
      "Amendment  PROPN             NNP noun, proper singular\n",
      "Musk       PROPN             NNP noun, proper singular\n",
      "3bil       PROPN             NNP noun, proper singular\n",
      "RM12.65bil PROPN             NNP noun, proper singular\n",
      "March      PROPN             NNP noun, proper singular\n",
      "Musk       PROPN             NNP noun, proper singular\n",
      "Twitter    PROPN             NNP noun, proper singular\n",
      "Twitter    PROPN             NNP noun, proper singular\n",
      "Twitter    PROPN             NNP noun, proper singular\n",
      "Musk       PROPN             NNP noun, proper singular\n",
      "Twitter    PROPN             NNP noun, proper singular\n",
      "Facebook   PROPN             NNP noun, proper singular\n",
      "US         PROPN             NNP noun, proper singular\n",
      "President  PROPN             NNP noun, proper singular\n",
      "Donald     PROPN             NNP noun, proper singular\n",
      "Trump      PROPN             NNP noun, proper singular\n",
      "Jan        PROPN             NNP noun, proper singular\n",
      "Capitol    PROPN             NNP noun, proper singular\n",
      "Musk       PROPN             NNP noun, proper singular\n",
      "US         PROPN             NNP noun, proper singular\n",
      "Securities PROPN            NNPS noun, proper plural\n",
      "Exchange   PROPN             NNP noun, proper singular\n",
      "Commission PROPN             NNP noun, proper singular\n",
      "Monday     PROPN             NNP noun, proper singular\n",
      "March      PROPN             NNP noun, proper singular\n",
      "Musk       PROPN             NNP noun, proper singular\n",
      "Twitter    PROPN             NNP noun, proper singular\n",
      "Musk       PROPN             NNP noun, proper singular\n",
      "Twitter    PROPN             NNP noun, proper singular\n",
      "CFRA       PROPN             NNP noun, proper singular\n",
      "Analyst    PROPN             NNP noun, proper singular\n",
      "Angelo     PROPN             NNP noun, proper singular\n",
      "Zino       PROPN             NNP noun, proper singular\n",
      "Twitter    PROPN             NNP noun, proper singular\n",
      "Twitter    PROPN             NNP noun, proper singular\n",
      "Jack       PROPN             NNP noun, proper singular\n",
      "Dorsey     PROPN             NNP noun, proper singular\n",
      "November   PROPN             NNP noun, proper singular\n",
      "Musk       PROPN             NNP noun, proper singular\n",
      "Twitter    PROPN             NNP noun, proper singular\n",
      "Dorsey     PROPN             NNP noun, proper singular\n"
     ]
    }
   ],
   "source": [
    "print(\"Verbs in docs3: \")\n",
    "for token in docs3:\n",
    "    if token.pos_ == 'PROPN':\n",
    "        print(f\"{token.text:{10}} {token.pos_:{5}} {token.tag_:>{15}} { spacy.explain(token.tag_)}\")"
   ]
  },
  {
   "cell_type": "markdown",
   "id": "d2200ba8",
   "metadata": {},
   "source": [
    "### NER - Part One\n",
    "- Show Entity\n",
    "- Add new Entity to list"
   ]
  },
  {
   "cell_type": "code",
   "execution_count": 45,
   "id": "64749c0c",
   "metadata": {},
   "outputs": [],
   "source": [
    "def show_ents(doc):\n",
    "    if doc.ents:\n",
    "        for ent in doc.ents:\n",
    "            print(ent.text + \" - \" + ent.label_ + \" \" + str(spacy.explain(ent.label_)))\n",
    "    \n",
    "    else:\n",
    "        print(\"No entites found!\")"
   ]
  },
  {
   "cell_type": "code",
   "execution_count": 46,
   "id": "9bcb303d",
   "metadata": {},
   "outputs": [
    {
     "name": "stdout",
     "output_type": "stream",
     "text": [
      "No entites found!\n"
     ]
    }
   ],
   "source": [
    "doc = nlp(u\"Hi! How are you\")\n",
    "show_ents(doc)"
   ]
  },
  {
   "cell_type": "code",
   "execution_count": 47,
   "id": "96d4385c",
   "metadata": {},
   "outputs": [
    {
     "name": "stdout",
     "output_type": "stream",
     "text": [
      "Washington - GPE Countries, cities, states\n",
      "DC - GPE Countries, cities, states\n",
      "next May - DATE Absolute or relative dates or periods\n",
      "the Washington Monument - ORG Companies, agencies, institutions, etc.\n"
     ]
    }
   ],
   "source": [
    "doc2 = nlp(u\"May I go to Washington, DC next May to see the Washington Monument?\")\n",
    "show_ents(doc2)"
   ]
  },
  {
   "cell_type": "code",
   "execution_count": 113,
   "id": "8708afb8",
   "metadata": {},
   "outputs": [
    {
     "name": "stdout",
     "output_type": "stream",
     "text": [
      "500 dollars - MONEY Monetary values, including unit\n",
      "Microsoft - ORG Companies, agencies, institutions, etc.\n"
     ]
    }
   ],
   "source": [
    "doc3 = nlp(u\"Can I have 500 dollars of Microsoft stock?\")\n",
    "show_ents(doc3)"
   ]
  },
  {
   "cell_type": "code",
   "execution_count": 114,
   "id": "258d3dd3",
   "metadata": {},
   "outputs": [
    {
     "name": "stdout",
     "output_type": "stream",
     "text": [
      "U.K - ORG Companies, agencies, institutions, etc.\n",
      "6$ million - MONEY Monetary values, including unit\n"
     ]
    }
   ],
   "source": [
    "doc4 = nlp(u\"Tesla to build a U.K factory for 6$ million.\")\n",
    "show_ents(doc4)"
   ]
  },
  {
   "cell_type": "code",
   "execution_count": 115,
   "id": "d6fe5fb7",
   "metadata": {},
   "outputs": [],
   "source": [
    "from spacy.tokens import Span"
   ]
  },
  {
   "cell_type": "code",
   "execution_count": 116,
   "id": "0a365128",
   "metadata": {},
   "outputs": [
    {
     "data": {
      "text/plain": [
       "381"
      ]
     },
     "execution_count": 116,
     "metadata": {},
     "output_type": "execute_result"
    }
   ],
   "source": [
    "ORG = doc.vocab.strings[u\"ORG\"]\n",
    "ORG"
   ]
  },
  {
   "cell_type": "code",
   "execution_count": 117,
   "id": "ec60ad61",
   "metadata": {},
   "outputs": [
    {
     "data": {
      "text/plain": [
       "Tesla"
      ]
     },
     "execution_count": 117,
     "metadata": {},
     "output_type": "execute_result"
    }
   ],
   "source": [
    "new_ent = Span(doc4,0,1, label = ORG)\n",
    "new_ent"
   ]
  },
  {
   "cell_type": "code",
   "execution_count": 118,
   "id": "57575d24",
   "metadata": {},
   "outputs": [],
   "source": [
    "doc4.ents = list(doc4.ents) + [new_ent]"
   ]
  },
  {
   "cell_type": "code",
   "execution_count": 119,
   "id": "8b727e14",
   "metadata": {},
   "outputs": [
    {
     "name": "stdout",
     "output_type": "stream",
     "text": [
      "Tesla - ORG Companies, agencies, institutions, etc.\n",
      "U.K - ORG Companies, agencies, institutions, etc.\n",
      "6$ million - MONEY Monetary values, including unit\n"
     ]
    }
   ],
   "source": [
    "show_ents(doc4)"
   ]
  },
  {
   "cell_type": "code",
   "execution_count": 48,
   "id": "0693d860",
   "metadata": {},
   "outputs": [
    {
     "name": "stdout",
     "output_type": "stream",
     "text": [
      "Elon Musk - PERSON People, including fictional\n",
      "9% - PERCENT Percentage, including \"%\"\n",
      "Twitter - PRODUCT Objects, vehicles, foods, etc. (not services)\n",
      "the First Amendment - LAW Named documents made into laws.\n",
      "73.5 million - CARDINAL Numerals that do not fall under another type\n",
      "about US$3bil - MONEY Monetary values, including unit\n",
      "RM12.65bil - ORG Companies, agencies, institutions, etc.\n",
      "late March Musk - DATE Absolute or relative dates or periods\n",
      "80 million - CARDINAL Numerals that do not fall under another type\n",
      "Twitter - PRODUCT Objects, vehicles, foods, etc. (not services)\n",
      "Twitter - PRODUCT Objects, vehicles, foods, etc. (not services)\n",
      "years past - DATE Absolute or relative dates or periods\n",
      "Twitter - PRODUCT Objects, vehicles, foods, etc. (not services)\n",
      "Musk - PERSON People, including fictional\n",
      "Twitter - PERSON People, including fictional\n",
      "US - GPE Countries, cities, states\n",
      "Donald Trump - PERSON People, including fictional\n",
      "Jan 6 - DATE Absolute or relative dates or periods\n",
      "Capitol - FAC Buildings, airports, highways, bridges, etc.\n",
      "last year - DATE Absolute or relative dates or periods\n",
      "Musk - PERSON People, including fictional\n",
      "US Securities and Exchange Commission - ORG Companies, agencies, institutions, etc.\n",
      "Monday - DATE Absolute or relative dates or periods\n",
      "March 14 - DATE Absolute or relative dates or periods\n",
      "Musk - PERSON People, including fictional\n",
      "Twitter - PRODUCT Objects, vehicles, foods, etc. (not services)\n",
      "Musk - PERSON People, including fictional\n",
      "Twitter - PRODUCT Objects, vehicles, foods, etc. (not services)\n",
      "Angelo Zino - PERSON People, including fictional\n",
      "Twitter - PRODUCT Objects, vehicles, foods, etc. (not services)\n",
      "early last year - DATE Absolute or relative dates or periods\n",
      "Jack Dorsey - PERSON People, including fictional\n",
      "November - DATE Absolute or relative dates or periods\n",
      "Twitter - PRODUCT Objects, vehicles, foods, etc. (not services)\n",
      "more than four - CARDINAL Numerals that do not fall under another type\n",
      "Dorsey’s - ORG Companies, agencies, institutions, etc.\n"
     ]
    }
   ],
   "source": [
    "show_ents(docs3)"
   ]
  },
  {
   "cell_type": "markdown",
   "id": "d171c4cc",
   "metadata": {},
   "source": [
    "### NER - Part Two"
   ]
  },
  {
   "cell_type": "code",
   "execution_count": 131,
   "id": "d08040fc",
   "metadata": {},
   "outputs": [
    {
     "name": "stdout",
     "output_type": "stream",
     "text": [
      "first - ORDINAL \"first\", \"second\", etc.\n"
     ]
    }
   ],
   "source": [
    "doc = nlp(u'Our company plans to introduce a new vacuum cleaner. '\n",
    "          u'If successful, the vacuum-cleaner will be our first product.')\n",
    "show_ents(doc)"
   ]
  },
  {
   "cell_type": "code",
   "execution_count": 133,
   "id": "296db293",
   "metadata": {},
   "outputs": [],
   "source": [
    "from spacy.matcher import PhraseMatcher"
   ]
  },
  {
   "cell_type": "code",
   "execution_count": 134,
   "id": "fc91c14c",
   "metadata": {},
   "outputs": [
    {
     "data": {
      "text/plain": [
       "[vacuum cleaner, vacuum-cleaner]"
      ]
     },
     "execution_count": 134,
     "metadata": {},
     "output_type": "execute_result"
    }
   ],
   "source": [
    "phrases_list  = ['vacuum cleaner', 'vacuum-cleaner']\n",
    "pattern_list = [nlp(phrase) for phrase in phrases_list]\n",
    "pattern_list"
   ]
  },
  {
   "cell_type": "code",
   "execution_count": 141,
   "id": "c5ab0146",
   "metadata": {},
   "outputs": [],
   "source": [
    "matcher = PhraseMatcher(nlp.vocab)"
   ]
  },
  {
   "cell_type": "code",
   "execution_count": 142,
   "id": "8b772006",
   "metadata": {},
   "outputs": [],
   "source": [
    "matcher.add(\"newproduct\", None , *pattern_list)"
   ]
  },
  {
   "cell_type": "code",
   "execution_count": 152,
   "id": "be8aa3d2",
   "metadata": {},
   "outputs": [
    {
     "data": {
      "text/plain": [
       "[(2689272359382549672, 7, 9), (2689272359382549672, 14, 16)]"
      ]
     },
     "execution_count": 152,
     "metadata": {},
     "output_type": "execute_result"
    }
   ],
   "source": [
    "pattern_match = matcher(doc)\n",
    "pattern_match"
   ]
  },
  {
   "cell_type": "code",
   "execution_count": 153,
   "id": "d65caf0e",
   "metadata": {},
   "outputs": [
    {
     "data": {
      "text/plain": [
       "384"
      ]
     },
     "execution_count": 153,
     "metadata": {},
     "output_type": "execute_result"
    }
   ],
   "source": [
    "PROD = doc.vocab.strings[u'PRODUCT']\n",
    "PROD"
   ]
  },
  {
   "cell_type": "code",
   "execution_count": 155,
   "id": "8caecd6d",
   "metadata": {},
   "outputs": [
    {
     "data": {
      "text/plain": [
       "[vacuum cleaner, vacuum cleaner]"
      ]
     },
     "execution_count": 155,
     "metadata": {},
     "output_type": "execute_result"
    }
   ],
   "source": [
    "new_ents = [Span(doc, match[1], match[2], label = PROD) for match in pattern_match]\n",
    "new_ents"
   ]
  },
  {
   "cell_type": "code",
   "execution_count": 158,
   "id": "e64b05af",
   "metadata": {},
   "outputs": [],
   "source": [
    "doc.ents = list(doc.ents) + new_ents"
   ]
  },
  {
   "cell_type": "code",
   "execution_count": 159,
   "id": "ee5e8ef7",
   "metadata": {},
   "outputs": [
    {
     "name": "stdout",
     "output_type": "stream",
     "text": [
      "vacuum cleaner - PRODUCT Objects, vehicles, foods, etc. (not services)\n",
      "vacuum cleaner - PRODUCT Objects, vehicles, foods, etc. (not services)\n",
      "first - ORDINAL \"first\", \"second\", etc.\n"
     ]
    }
   ],
   "source": [
    "show_ents(doc)"
   ]
  },
  {
   "cell_type": "markdown",
   "id": "3d8ac033",
   "metadata": {},
   "source": [
    "### Visualize NER"
   ]
  },
  {
   "cell_type": "code",
   "execution_count": 160,
   "id": "e4d43cd9",
   "metadata": {},
   "outputs": [],
   "source": [
    "from spacy import displacy"
   ]
  },
  {
   "cell_type": "code",
   "execution_count": 170,
   "id": "4790b639",
   "metadata": {},
   "outputs": [],
   "source": [
    "doc = nlp(u\"Over the last quarter Apple sold nearly 20 thousand iPods for a profit of $20 million.\"\n",
    "         u\"By contrast, Sony only sold 8 thousand Walkman music players\"\n",
    "         )"
   ]
  },
  {
   "cell_type": "code",
   "execution_count": 171,
   "id": "99ce04bf",
   "metadata": {},
   "outputs": [
    {
     "data": {
      "text/html": [
       "<div class=\"entities\" style=\"line-height: 2.5\">Over \n",
       "<mark class=\"entity\" style=\"background: #bfe1d9; padding: 0.45em 0.6em; margin: 0 0.25em; line-height: 1; border-radius: 0.35em; box-decoration-break: clone; -webkit-box-decoration-break: clone\">\n",
       "    the last quarter\n",
       "    <span style=\"font-size: 0.8em; font-weight: bold; line-height: 1; border-radius: 0.35em; text-transform: uppercase; vertical-align: middle; margin-left: 0.5rem\">DATE</span>\n",
       "</mark>\n",
       " \n",
       "<mark class=\"entity\" style=\"background: #7aecec; padding: 0.45em 0.6em; margin: 0 0.25em; line-height: 1; border-radius: 0.35em; box-decoration-break: clone; -webkit-box-decoration-break: clone\">\n",
       "    Apple\n",
       "    <span style=\"font-size: 0.8em; font-weight: bold; line-height: 1; border-radius: 0.35em; text-transform: uppercase; vertical-align: middle; margin-left: 0.5rem\">ORG</span>\n",
       "</mark>\n",
       " sold \n",
       "<mark class=\"entity\" style=\"background: #e4e7d2; padding: 0.45em 0.6em; margin: 0 0.25em; line-height: 1; border-radius: 0.35em; box-decoration-break: clone; -webkit-box-decoration-break: clone\">\n",
       "    nearly 20 thousand\n",
       "    <span style=\"font-size: 0.8em; font-weight: bold; line-height: 1; border-radius: 0.35em; text-transform: uppercase; vertical-align: middle; margin-left: 0.5rem\">CARDINAL</span>\n",
       "</mark>\n",
       " \n",
       "<mark class=\"entity\" style=\"background: #bfeeb7; padding: 0.45em 0.6em; margin: 0 0.25em; line-height: 1; border-radius: 0.35em; box-decoration-break: clone; -webkit-box-decoration-break: clone\">\n",
       "    iPods\n",
       "    <span style=\"font-size: 0.8em; font-weight: bold; line-height: 1; border-radius: 0.35em; text-transform: uppercase; vertical-align: middle; margin-left: 0.5rem\">PRODUCT</span>\n",
       "</mark>\n",
       " for a profit of \n",
       "<mark class=\"entity\" style=\"background: #e4e7d2; padding: 0.45em 0.6em; margin: 0 0.25em; line-height: 1; border-radius: 0.35em; box-decoration-break: clone; -webkit-box-decoration-break: clone\">\n",
       "    $20 million\n",
       "    <span style=\"font-size: 0.8em; font-weight: bold; line-height: 1; border-radius: 0.35em; text-transform: uppercase; vertical-align: middle; margin-left: 0.5rem\">MONEY</span>\n",
       "</mark>\n",
       ".By contrast, \n",
       "<mark class=\"entity\" style=\"background: #7aecec; padding: 0.45em 0.6em; margin: 0 0.25em; line-height: 1; border-radius: 0.35em; box-decoration-break: clone; -webkit-box-decoration-break: clone\">\n",
       "    Sony\n",
       "    <span style=\"font-size: 0.8em; font-weight: bold; line-height: 1; border-radius: 0.35em; text-transform: uppercase; vertical-align: middle; margin-left: 0.5rem\">ORG</span>\n",
       "</mark>\n",
       " only sold \n",
       "<mark class=\"entity\" style=\"background: #e4e7d2; padding: 0.45em 0.6em; margin: 0 0.25em; line-height: 1; border-radius: 0.35em; box-decoration-break: clone; -webkit-box-decoration-break: clone\">\n",
       "    8 thousand\n",
       "    <span style=\"font-size: 0.8em; font-weight: bold; line-height: 1; border-radius: 0.35em; text-transform: uppercase; vertical-align: middle; margin-left: 0.5rem\">CARDINAL</span>\n",
       "</mark>\n",
       " \n",
       "<mark class=\"entity\" style=\"background: #bfeeb7; padding: 0.45em 0.6em; margin: 0 0.25em; line-height: 1; border-radius: 0.35em; box-decoration-break: clone; -webkit-box-decoration-break: clone\">\n",
       "    Walkman\n",
       "    <span style=\"font-size: 0.8em; font-weight: bold; line-height: 1; border-radius: 0.35em; text-transform: uppercase; vertical-align: middle; margin-left: 0.5rem\">PRODUCT</span>\n",
       "</mark>\n",
       " music players</div>"
      ],
      "text/plain": [
       "<IPython.core.display.HTML object>"
      ]
     },
     "metadata": {},
     "output_type": "display_data"
    }
   ],
   "source": [
    "displacy.render(doc, jupyter = True, style = 'ent')"
   ]
  },
  {
   "cell_type": "code",
   "execution_count": 172,
   "id": "a207f3f5",
   "metadata": {},
   "outputs": [
    {
     "data": {
      "text/html": [
       "<div class=\"entities\" style=\"line-height: 2.5\">Over \n",
       "<mark class=\"entity\" style=\"background: #bfe1d9; padding: 0.45em 0.6em; margin: 0 0.25em; line-height: 1; border-radius: 0.35em; box-decoration-break: clone; -webkit-box-decoration-break: clone\">\n",
       "    the last quarter\n",
       "    <span style=\"font-size: 0.8em; font-weight: bold; line-height: 1; border-radius: 0.35em; text-transform: uppercase; vertical-align: middle; margin-left: 0.5rem\">DATE</span>\n",
       "</mark>\n",
       " \n",
       "<mark class=\"entity\" style=\"background: #7aecec; padding: 0.45em 0.6em; margin: 0 0.25em; line-height: 1; border-radius: 0.35em; box-decoration-break: clone; -webkit-box-decoration-break: clone\">\n",
       "    Apple\n",
       "    <span style=\"font-size: 0.8em; font-weight: bold; line-height: 1; border-radius: 0.35em; text-transform: uppercase; vertical-align: middle; margin-left: 0.5rem\">ORG</span>\n",
       "</mark>\n",
       " sold \n",
       "<mark class=\"entity\" style=\"background: #e4e7d2; padding: 0.45em 0.6em; margin: 0 0.25em; line-height: 1; border-radius: 0.35em; box-decoration-break: clone; -webkit-box-decoration-break: clone\">\n",
       "    nearly 20 thousand\n",
       "    <span style=\"font-size: 0.8em; font-weight: bold; line-height: 1; border-radius: 0.35em; text-transform: uppercase; vertical-align: middle; margin-left: 0.5rem\">CARDINAL</span>\n",
       "</mark>\n",
       " \n",
       "<mark class=\"entity\" style=\"background: #bfeeb7; padding: 0.45em 0.6em; margin: 0 0.25em; line-height: 1; border-radius: 0.35em; box-decoration-break: clone; -webkit-box-decoration-break: clone\">\n",
       "    iPods\n",
       "    <span style=\"font-size: 0.8em; font-weight: bold; line-height: 1; border-radius: 0.35em; text-transform: uppercase; vertical-align: middle; margin-left: 0.5rem\">PRODUCT</span>\n",
       "</mark>\n",
       " for a profit of \n",
       "<mark class=\"entity\" style=\"background: #e4e7d2; padding: 0.45em 0.6em; margin: 0 0.25em; line-height: 1; border-radius: 0.35em; box-decoration-break: clone; -webkit-box-decoration-break: clone\">\n",
       "    $20 million\n",
       "    <span style=\"font-size: 0.8em; font-weight: bold; line-height: 1; border-radius: 0.35em; text-transform: uppercase; vertical-align: middle; margin-left: 0.5rem\">MONEY</span>\n",
       "</mark>\n",
       ".</div>"
      ],
      "text/plain": [
       "<IPython.core.display.HTML object>"
      ]
     },
     "metadata": {},
     "output_type": "display_data"
    },
    {
     "data": {
      "text/html": [
       "<div class=\"entities\" style=\"line-height: 2.5\">By contrast, \n",
       "<mark class=\"entity\" style=\"background: #7aecec; padding: 0.45em 0.6em; margin: 0 0.25em; line-height: 1; border-radius: 0.35em; box-decoration-break: clone; -webkit-box-decoration-break: clone\">\n",
       "    Sony\n",
       "    <span style=\"font-size: 0.8em; font-weight: bold; line-height: 1; border-radius: 0.35em; text-transform: uppercase; vertical-align: middle; margin-left: 0.5rem\">ORG</span>\n",
       "</mark>\n",
       " only sold \n",
       "<mark class=\"entity\" style=\"background: #e4e7d2; padding: 0.45em 0.6em; margin: 0 0.25em; line-height: 1; border-radius: 0.35em; box-decoration-break: clone; -webkit-box-decoration-break: clone\">\n",
       "    8 thousand\n",
       "    <span style=\"font-size: 0.8em; font-weight: bold; line-height: 1; border-radius: 0.35em; text-transform: uppercase; vertical-align: middle; margin-left: 0.5rem\">CARDINAL</span>\n",
       "</mark>\n",
       " \n",
       "<mark class=\"entity\" style=\"background: #bfeeb7; padding: 0.45em 0.6em; margin: 0 0.25em; line-height: 1; border-radius: 0.35em; box-decoration-break: clone; -webkit-box-decoration-break: clone\">\n",
       "    Walkman\n",
       "    <span style=\"font-size: 0.8em; font-weight: bold; line-height: 1; border-radius: 0.35em; text-transform: uppercase; vertical-align: middle; margin-left: 0.5rem\">PRODUCT</span>\n",
       "</mark>\n",
       " music players</div>"
      ],
      "text/plain": [
       "<IPython.core.display.HTML object>"
      ]
     },
     "metadata": {},
     "output_type": "display_data"
    }
   ],
   "source": [
    "for sent in doc.sents:\n",
    "    displacy.render(nlp(sent.text), style = 'ent', jupyter= True)"
   ]
  },
  {
   "cell_type": "code",
   "execution_count": 183,
   "id": "8080cfbd",
   "metadata": {},
   "outputs": [
    {
     "data": {
      "text/html": [
       "<div class=\"entities\" style=\"line-height: 2.5\">Over the last quarter \n",
       "<mark class=\"entity\" style=\"background: linear-gradient(45deg, #aa9cfc, red); padding: 0.45em 0.6em; margin: 0 0.25em; line-height: 1; border-radius: 0.35em; box-decoration-break: clone; -webkit-box-decoration-break: clone\">\n",
       "    Apple\n",
       "    <span style=\"font-size: 0.8em; font-weight: bold; line-height: 1; border-radius: 0.35em; text-transform: uppercase; vertical-align: middle; margin-left: 0.5rem\">ORG</span>\n",
       "</mark>\n",
       " sold nearly 20 thousand \n",
       "<mark class=\"entity\" style=\"background: #bfeeb7; padding: 0.45em 0.6em; margin: 0 0.25em; line-height: 1; border-radius: 0.35em; box-decoration-break: clone; -webkit-box-decoration-break: clone\">\n",
       "    iPods\n",
       "    <span style=\"font-size: 0.8em; font-weight: bold; line-height: 1; border-radius: 0.35em; text-transform: uppercase; vertical-align: middle; margin-left: 0.5rem\">PRODUCT</span>\n",
       "</mark>\n",
       " for a profit of $20 million.By contrast, \n",
       "<mark class=\"entity\" style=\"background: linear-gradient(45deg, #aa9cfc, red); padding: 0.45em 0.6em; margin: 0 0.25em; line-height: 1; border-radius: 0.35em; box-decoration-break: clone; -webkit-box-decoration-break: clone\">\n",
       "    Sony\n",
       "    <span style=\"font-size: 0.8em; font-weight: bold; line-height: 1; border-radius: 0.35em; text-transform: uppercase; vertical-align: middle; margin-left: 0.5rem\">ORG</span>\n",
       "</mark>\n",
       " only sold 8 thousand \n",
       "<mark class=\"entity\" style=\"background: #bfeeb7; padding: 0.45em 0.6em; margin: 0 0.25em; line-height: 1; border-radius: 0.35em; box-decoration-break: clone; -webkit-box-decoration-break: clone\">\n",
       "    Walkman\n",
       "    <span style=\"font-size: 0.8em; font-weight: bold; line-height: 1; border-radius: 0.35em; text-transform: uppercase; vertical-align: middle; margin-left: 0.5rem\">PRODUCT</span>\n",
       "</mark>\n",
       " music players</div>"
      ],
      "text/plain": [
       "<IPython.core.display.HTML object>"
      ]
     },
     "metadata": {},
     "output_type": "display_data"
    }
   ],
   "source": [
    "# colors = {'ORG' : '#aa9cfc'}\n",
    "colors = {'ORG' : 'linear-gradient(45deg, #aa9cfc, red)'}\n",
    "options = {'ents' : ['PRODUCT', 'ORG'], 'colors' : colors}\n",
    "displacy.render(doc, jupyter = True, style = 'ent', options = options)"
   ]
  },
  {
   "cell_type": "code",
   "execution_count": 184,
   "id": "19029e04",
   "metadata": {},
   "outputs": [
    {
     "name": "stdout",
     "output_type": "stream",
     "text": [
      "\n",
      "\u001b[93m    Serving on port 5000...\u001b[0m\n",
      "    Using the 'ent' visualizer\n",
      "\n"
     ]
    },
    {
     "name": "stderr",
     "output_type": "stream",
     "text": [
      "127.0.0.1 - - [15/May/2021 17:22:49] \"GET / HTTP/1.1\" 200 2155\n",
      "127.0.0.1 - - [15/May/2021 17:22:50] \"GET /favicon.ico HTTP/1.1\" 200 2155\n"
     ]
    },
    {
     "name": "stdout",
     "output_type": "stream",
     "text": [
      "\n",
      "    Shutting down server on port 5000.\n",
      "\n"
     ]
    }
   ],
   "source": [
    "displacy.serve(doc, style = 'ent', options = options)"
   ]
  },
  {
   "cell_type": "markdown",
   "id": "8f4438fd",
   "metadata": {},
   "source": [
    "### Sentence Segmentation"
   ]
  },
  {
   "cell_type": "code",
   "execution_count": 185,
   "id": "9d5b9b38",
   "metadata": {},
   "outputs": [
    {
     "name": "stdout",
     "output_type": "stream",
     "text": [
      "This is the first sentence.\n",
      "This is another sentence.\n",
      "This is the last sentence.\n"
     ]
    }
   ],
   "source": [
    "doc = nlp(u'This is the first sentence. This is another sentence. This is the last sentence.')\n",
    "\n",
    "for sent in doc.sents:\n",
    "    print(sent)"
   ]
  },
  {
   "cell_type": "code",
   "execution_count": 186,
   "id": "862bb9ba",
   "metadata": {},
   "outputs": [],
   "source": [
    "# ADD SEGMENTATION RULE"
   ]
  },
  {
   "cell_type": "code",
   "execution_count": 187,
   "id": "eedbc0dd",
   "metadata": {},
   "outputs": [
    {
     "data": {
      "text/plain": [
       "['tagger', 'set_custom_segmentation', 'parser', 'ner']"
      ]
     },
     "execution_count": 187,
     "metadata": {},
     "output_type": "execute_result"
    }
   ],
   "source": [
    "def set_custom_segmentation(doc):\n",
    "    for token in doc[:-1]:\n",
    "        if token.text == \";\":\n",
    "            doc[token.i+1].is_sent_start = True\n",
    "    return doc\n",
    "\n",
    "nlp.add_pipe(set_custom_segmentation, before='parser')\n",
    "nlp.pipe_names"
   ]
  },
  {
   "cell_type": "code",
   "execution_count": 189,
   "id": "e6123431",
   "metadata": {},
   "outputs": [],
   "source": [
    "doc3 = nlp(u'\"Management is doing things right; leadership is doing the right things.\" -Peter Drucker')"
   ]
  },
  {
   "cell_type": "code",
   "execution_count": 190,
   "id": "4bd677af",
   "metadata": {},
   "outputs": [
    {
     "name": "stdout",
     "output_type": "stream",
     "text": [
      "\"Management is doing things right;\n",
      "leadership is doing the right things.\"\n",
      "-Peter Drucker\n"
     ]
    }
   ],
   "source": [
    "for sent in doc3.sents:\n",
    "    print(sent)"
   ]
  },
  {
   "cell_type": "code",
   "execution_count": 191,
   "id": "8d5e075e",
   "metadata": {},
   "outputs": [],
   "source": [
    "#CHANGE SEGMENTATION RULES"
   ]
  },
  {
   "cell_type": "code",
   "execution_count": null,
   "id": "59e7ce49",
   "metadata": {},
   "outputs": [],
   "source": [
    "nlp = spacy.load(\"en_core_web_sm\")"
   ]
  },
  {
   "cell_type": "code",
   "execution_count": 194,
   "id": "ff75f25d",
   "metadata": {},
   "outputs": [],
   "source": [
    "doc = nlp(u'This is the first sentence. This is another sentence. \\n\\nThis is the \\nlast sentence.')"
   ]
  },
  {
   "cell_type": "code",
   "execution_count": 195,
   "id": "36b465c9",
   "metadata": {},
   "outputs": [
    {
     "data": {
      "text/plain": [
       "This is the first sentence. This is another sentence. \n",
       "\n",
       "This is the \n",
       "last sentence."
      ]
     },
     "execution_count": 195,
     "metadata": {},
     "output_type": "execute_result"
    }
   ],
   "source": [
    "doc"
   ]
  },
  {
   "cell_type": "code",
   "execution_count": 196,
   "id": "eac89829",
   "metadata": {},
   "outputs": [
    {
     "name": "stdout",
     "output_type": "stream",
     "text": [
      "This is the first sentence.\n",
      "This is another sentence. \n",
      "\n",
      "\n",
      "This is the \n",
      "last sentence.\n"
     ]
    }
   ],
   "source": [
    "for sent in doc.sents:\n",
    "    print(sent)"
   ]
  },
  {
   "cell_type": "code",
   "execution_count": 197,
   "id": "ae3b60fb",
   "metadata": {},
   "outputs": [],
   "source": [
    "from spacy.pipeline import SentenceSegmenter"
   ]
  },
  {
   "cell_type": "code",
   "execution_count": 198,
   "id": "bb0d614e",
   "metadata": {},
   "outputs": [],
   "source": [
    "def split_on_newlines(doc):\n",
    "    start = 0\n",
    "    seen_newline = False\n",
    "    \n",
    "    for word in doc:\n",
    "        if seen_newline:\n",
    "            yield doc[start:word.i]\n",
    "            start = word.i\n",
    "            seen_newline = False\n",
    "            \n",
    "        elif word.text.startswith(\"\\n\"):\n",
    "            seen_newline = True\n",
    "            \n",
    "    yield doc[start:]"
   ]
  },
  {
   "cell_type": "code",
   "execution_count": 200,
   "id": "d8cdbc19",
   "metadata": {},
   "outputs": [
    {
     "name": "stdout",
     "output_type": "stream",
     "text": [
      "This is the first sentence. This is another sentence. \n",
      "\n",
      "\n",
      "This is the \n",
      "\n",
      "last sentence.\n"
     ]
    }
   ],
   "source": [
    "for sent in split_on_newlines(doc):\n",
    "    print(sent)"
   ]
  },
  {
   "cell_type": "code",
   "execution_count": 201,
   "id": "99aa45aa",
   "metadata": {},
   "outputs": [],
   "source": [
    "sbd = SentenceSegmenter(nlp.vocab, strategy=split_on_newlines)"
   ]
  },
  {
   "cell_type": "code",
   "execution_count": 202,
   "id": "be8333f8",
   "metadata": {},
   "outputs": [],
   "source": [
    "nlp.add_pipe(sbd)"
   ]
  },
  {
   "cell_type": "code",
   "execution_count": 205,
   "id": "1b383546",
   "metadata": {},
   "outputs": [],
   "source": [
    "doc = nlp(u'This is the first sentence. This is another sentence. \\n\\nThis is the \\nlast sentence.')\n"
   ]
  },
  {
   "cell_type": "code",
   "execution_count": 206,
   "id": "5b08c7ed",
   "metadata": {},
   "outputs": [
    {
     "name": "stdout",
     "output_type": "stream",
     "text": [
      "This is the first sentence. This is another sentence. \n",
      "\n",
      "\n",
      "This is the \n",
      "\n",
      "last sentence.\n"
     ]
    }
   ],
   "source": [
    "for sent in doc.sents:\n",
    "    print(sent)"
   ]
  }
 ],
 "metadata": {
  "kernelspec": {
   "display_name": "Python 3 (ipykernel)",
   "language": "python",
   "name": "python3"
  },
  "language_info": {
   "codemirror_mode": {
    "name": "ipython",
    "version": 3
   },
   "file_extension": ".py",
   "mimetype": "text/x-python",
   "name": "python",
   "nbconvert_exporter": "python",
   "pygments_lexer": "ipython3",
   "version": "3.9.7"
  }
 },
 "nbformat": 4,
 "nbformat_minor": 5
}
