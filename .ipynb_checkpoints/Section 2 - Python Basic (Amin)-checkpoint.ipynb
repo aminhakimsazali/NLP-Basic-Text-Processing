{
 "cells": [
  {
   "cell_type": "markdown",
   "id": "16a934d2",
   "metadata": {
    "heading_collapsed": true
   },
   "source": [
    "### Working with Text files - Part 2"
   ]
  },
  {
   "cell_type": "code",
   "execution_count": 9,
   "id": "aaf4ce4e",
   "metadata": {
    "hidden": true
   },
   "outputs": [],
   "source": [
    "library = [('Author', 'Topic', 'Pages'), ('Twain', 'Rafting in sea alone', 601), ('Feynman', 'Physics', 95), ('Hamilton', 'Mythology', 144)]"
   ]
  },
  {
   "cell_type": "code",
   "execution_count": 10,
   "id": "113e96f4",
   "metadata": {
    "hidden": true
   },
   "outputs": [
    {
     "data": {
      "text/plain": [
       "[('Author', 'Topic', 'Pages'),\n",
       " ('Twain', 'Rafting in sea alone', 601),\n",
       " ('Feynman', 'Physics', 95),\n",
       " ('Hamilton', 'Mythology', 144)]"
      ]
     },
     "execution_count": 10,
     "metadata": {},
     "output_type": "execute_result"
    }
   ],
   "source": [
    "library"
   ]
  },
  {
   "cell_type": "code",
   "execution_count": 24,
   "id": "fc27a768",
   "metadata": {
    "hidden": true
   },
   "outputs": [
    {
     "name": "stdout",
     "output_type": "stream",
     "text": [
      "Author     Topic                          Pages     \n",
      "Twain      Rafting in sea alone           601       \n",
      "Feynman    Physics                        95        \n",
      "Hamilton   Mythology                      144       \n"
     ]
    }
   ],
   "source": [
    "for author, topic, pages in library:\n",
    "    print(f\"{author:{10}} {topic:{30}} {pages:<{10}}\")"
   ]
  },
  {
   "cell_type": "code",
   "execution_count": 25,
   "id": "a4265a8d",
   "metadata": {
    "hidden": true
   },
   "outputs": [],
   "source": [
    "from datetime import datetime"
   ]
  },
  {
   "cell_type": "code",
   "execution_count": 26,
   "id": "6c075741",
   "metadata": {
    "hidden": true
   },
   "outputs": [],
   "source": [
    "today = datetime(year=2021, month=2, day = 20)"
   ]
  },
  {
   "cell_type": "code",
   "execution_count": 33,
   "id": "922df763",
   "metadata": {
    "hidden": true
   },
   "outputs": [
    {
     "name": "stdout",
     "output_type": "stream",
     "text": [
      "Februarym 20, 2021\n"
     ]
    }
   ],
   "source": [
    "print(f\"{today:%Bm %d, %Y}\")"
   ]
  },
  {
   "cell_type": "markdown",
   "id": "3a0e7f4f",
   "metadata": {},
   "source": [
    "### Working with Text files - Part 2"
   ]
  },
  {
   "cell_type": "code",
   "execution_count": 34,
   "id": "5f17dac4",
   "metadata": {},
   "outputs": [
    {
     "name": "stdout",
     "output_type": "stream",
     "text": [
      "Writing test.txt\n"
     ]
    }
   ],
   "source": [
    "%%writefile test.txt\n",
    "Hello, my name is Amin\n",
    "This is the second line"
   ]
  },
  {
   "cell_type": "code",
   "execution_count": 41,
   "id": "84401ca8",
   "metadata": {},
   "outputs": [
    {
     "data": {
      "text/plain": [
       "'C:\\\\Users\\\\AH\\\\OneDrive - siswa.um.edu.my\\\\FSKTM\\\\NLP - Natural Language Processing with Python'"
      ]
     },
     "execution_count": 41,
     "metadata": {},
     "output_type": "execute_result"
    }
   ],
   "source": [
    "pwd"
   ]
  },
  {
   "cell_type": "code",
   "execution_count": 50,
   "id": "df7f9083",
   "metadata": {},
   "outputs": [],
   "source": [
    "myfile = open(\"test.txt\")"
   ]
  },
  {
   "cell_type": "code",
   "execution_count": 40,
   "id": "99d516a4",
   "metadata": {},
   "outputs": [
    {
     "data": {
      "text/plain": [
       "<_io.TextIOWrapper name='test.txt' mode='r' encoding='cp1252'>"
      ]
     },
     "execution_count": 40,
     "metadata": {},
     "output_type": "execute_result"
    }
   ],
   "source": [
    "myfile"
   ]
  },
  {
   "cell_type": "code",
   "execution_count": 42,
   "id": "58769aca",
   "metadata": {},
   "outputs": [
    {
     "data": {
      "text/plain": [
       "'Hello, my name is Amin\\nThis is the second line\\n'"
      ]
     },
     "execution_count": 42,
     "metadata": {},
     "output_type": "execute_result"
    }
   ],
   "source": [
    "myfile.read() "
   ]
  },
  {
   "cell_type": "code",
   "execution_count": 45,
   "id": "8f1016e7",
   "metadata": {},
   "outputs": [
    {
     "data": {
      "text/plain": [
       "'Hello, my name is Amin\\nThis is the second line\\n'"
      ]
     },
     "execution_count": 45,
     "metadata": {},
     "output_type": "execute_result"
    }
   ],
   "source": [
    "myfile.read() "
   ]
  },
  {
   "cell_type": "code",
   "execution_count": 46,
   "id": "f1a540b3",
   "metadata": {},
   "outputs": [
    {
     "data": {
      "text/plain": [
       "0"
      ]
     },
     "execution_count": 46,
     "metadata": {},
     "output_type": "execute_result"
    }
   ],
   "source": [
    "myfile.seek(0)"
   ]
  },
  {
   "cell_type": "code",
   "execution_count": 47,
   "id": "7decb6b1",
   "metadata": {},
   "outputs": [
    {
     "data": {
      "text/plain": [
       "'Hello, my name is Amin\\nThis is the second line\\n'"
      ]
     },
     "execution_count": 47,
     "metadata": {},
     "output_type": "execute_result"
    }
   ],
   "source": [
    "content = myfile.read()\n",
    "content"
   ]
  },
  {
   "cell_type": "code",
   "execution_count": 49,
   "id": "82ab5bbe",
   "metadata": {},
   "outputs": [
    {
     "name": "stdout",
     "output_type": "stream",
     "text": [
      "Hello, my name is Amin\n",
      "This is the second line\n",
      "\n"
     ]
    }
   ],
   "source": [
    "print(content)"
   ]
  },
  {
   "cell_type": "code",
   "execution_count": 48,
   "id": "ee1a52f7",
   "metadata": {},
   "outputs": [],
   "source": [
    "myfile.close()"
   ]
  },
  {
   "cell_type": "code",
   "execution_count": 55,
   "id": "e6248067",
   "metadata": {},
   "outputs": [],
   "source": [
    "myfile = open(\"test.txt\")\n",
    "content = myfile.readlines()\n",
    "myfile.close()"
   ]
  },
  {
   "cell_type": "code",
   "execution_count": 56,
   "id": "e450e782",
   "metadata": {},
   "outputs": [
    {
     "name": "stdout",
     "output_type": "stream",
     "text": [
      "Hello, my name is Amin\n",
      "\n",
      "This is the second line\n",
      "\n"
     ]
    }
   ],
   "source": [
    "for line in content:\n",
    "    print(line)"
   ]
  },
  {
   "cell_type": "code",
   "execution_count": 62,
   "id": "75fe24b2",
   "metadata": {},
   "outputs": [],
   "source": [
    "myfile =open(\"test.txt\", mode = 'w+')"
   ]
  },
  {
   "cell_type": "code",
   "execution_count": 63,
   "id": "ed4eeb5d",
   "metadata": {},
   "outputs": [
    {
     "data": {
      "text/plain": [
       "9"
      ]
     },
     "execution_count": 63,
     "metadata": {},
     "output_type": "execute_result"
    }
   ],
   "source": [
    "myfile.write(\"New thing\")"
   ]
  },
  {
   "cell_type": "code",
   "execution_count": 64,
   "id": "ad14bc65",
   "metadata": {},
   "outputs": [
    {
     "data": {
      "text/plain": [
       "0"
      ]
     },
     "execution_count": 64,
     "metadata": {},
     "output_type": "execute_result"
    }
   ],
   "source": [
    "myfile.seek(0)"
   ]
  },
  {
   "cell_type": "code",
   "execution_count": 65,
   "id": "c8c597ca",
   "metadata": {},
   "outputs": [
    {
     "data": {
      "text/plain": [
       "'New thing'"
      ]
     },
     "execution_count": 65,
     "metadata": {},
     "output_type": "execute_result"
    }
   ],
   "source": [
    "myfile.read()"
   ]
  },
  {
   "cell_type": "code",
   "execution_count": 66,
   "id": "39c3cd24",
   "metadata": {},
   "outputs": [],
   "source": [
    "myfile.close()"
   ]
  },
  {
   "cell_type": "code",
   "execution_count": 67,
   "id": "4e3987c8",
   "metadata": {},
   "outputs": [
    {
     "name": "stdout",
     "output_type": "stream",
     "text": [
      "New thing\n"
     ]
    }
   ],
   "source": [
    "with open(\"test.txt\") as myfile:\n",
    "    data = myfile.read()\n",
    "    \n",
    "print(data)"
   ]
  },
  {
   "cell_type": "markdown",
   "id": "0a19c32c",
   "metadata": {},
   "source": [
    "### Working with PDF files"
   ]
  },
  {
   "cell_type": "code",
   "execution_count": 69,
   "id": "9714f708",
   "metadata": {},
   "outputs": [
    {
     "name": "stdout",
     "output_type": "stream",
     "text": [
      "Collecting PyPDF2\n",
      "  Downloading https://files.pythonhosted.org/packages/b4/01/68fcc0d43daf4c6bdbc6b33cc3f77bda531c86b174cac56ef0ffdb96faab/PyPDF2-1.26.0.tar.gz (77kB)\n",
      "Building wheels for collected packages: PyPDF2\n",
      "  Running setup.py bdist_wheel for PyPDF2: started\n",
      "  Running setup.py bdist_wheel for PyPDF2: finished with status 'done'\n",
      "  Stored in directory: C:\\Users\\AH\\AppData\\Local\\pip\\Cache\\wheels\\53\\84\\19\\35bc977c8bf5f0c23a8a011aa958acd4da4bbd7a229315c1b7\n",
      "Successfully built PyPDF2\n",
      "Installing collected packages: PyPDF2\n",
      "Successfully installed PyPDF2-1.26.0\n"
     ]
    }
   ],
   "source": [
    "!pip install PyPDF2"
   ]
  },
  {
   "cell_type": "code",
   "execution_count": 70,
   "id": "3c2842cf",
   "metadata": {},
   "outputs": [],
   "source": [
    "import PyPDF2"
   ]
  },
  {
   "cell_type": "code",
   "execution_count": 72,
   "id": "193e771e",
   "metadata": {},
   "outputs": [],
   "source": [
    "myfile = open(\"US_Declaration.pdf\", mode = 'rb')"
   ]
  },
  {
   "cell_type": "code",
   "execution_count": 73,
   "id": "72e60b7e",
   "metadata": {},
   "outputs": [],
   "source": [
    "pdf_reader = PyPDF2.PdfFileReader(myfile)"
   ]
  },
  {
   "cell_type": "code",
   "execution_count": 74,
   "id": "099ec11f",
   "metadata": {},
   "outputs": [
    {
     "data": {
      "text/plain": [
       "5"
      ]
     },
     "execution_count": 74,
     "metadata": {},
     "output_type": "execute_result"
    }
   ],
   "source": [
    "pdf_reader.numPages"
   ]
  },
  {
   "cell_type": "code",
   "execution_count": 76,
   "id": "03bcf54a",
   "metadata": {},
   "outputs": [],
   "source": [
    "page_one = pdf_reader.getPage(0)"
   ]
  },
  {
   "cell_type": "code",
   "execution_count": 78,
   "id": "bb4f6946",
   "metadata": {
    "scrolled": true
   },
   "outputs": [
    {
     "name": "stdout",
     "output_type": "stream",
     "text": [
      "Declaration of IndependenceIN CONGRESS, July 4, 1776. The unanimous Declaration of the thirteen united States of America, When in the Course of human events, it becomes necessary for one people to dissolve the\n",
      "political bands which have connected them with another, and to assume among the powers of the\n",
      "earth, the separate and equal station to which the Laws of Nature and of Nature's God entitle\n",
      "\n",
      "them, a decent respect to the opinions of mankind requires that they should declare the causes\n",
      "\n",
      "which impel them to the separation. \n",
      "We hold these truths to be self-evident, that all men are created equal, that they are endowed by\n",
      "\n",
      "their Creator with certain unalienable Rights, that among these are Life, Liberty and the pursuit\n",
      "of Happiness.ŠThat to secure these rights, Governments are instituted among Men, deriving\n",
      "\n",
      "their just powers from the consent of the governed,ŠThat whenever any Form of Government\n",
      "becomes destructive of these ends, it is the Right of the People to alter or to abolish it, and to\n",
      "institute new Government, laying its foundation on such principles and organizing its powers in\n",
      "such form, as to them shall seem most likely to effect their Safety and Happiness. Prudence,\n",
      "\n",
      "indeed, will dictate that Governments long established should not be changed for light and\n",
      "transient causes; and accordingly all experience hath shewn, that mankind are more disposed to\n",
      "suffer, while evils are sufferable, than to right themselves by abolishing the forms to which they\n",
      "\n",
      "are accustomed. But when a long train of abuses and usurpations, pursuing invariably the same\n",
      "Object evinces a design to reduce them under absolute Despotism, it is their right, it is their duty,\n",
      "to throw off such Government, and to provide new Guards for their future security.ŠSuch has\n",
      "been the patient sufferance of these Colonies; and such is now the necessity which constrains\n",
      "\n",
      "them to alter their former Systems of Government. The history of the present King of Great\n",
      "\n",
      "Britain is a history of repeated injuries and usurpations, all having in direct object the\n",
      "establishment of an absolute Tyranny over these States. To prove this, let Facts be submitted to a\n",
      "candid world. He has refused his Assent to Laws, the most wholesome and necessary for the\n",
      "public good.\n",
      "He has forbidden his Governors to pass Laws of immediate and pressing\n",
      "importance, unless suspended in their operation till his Assent should be obtained;\n",
      "and when so suspended, he has utterly neglected to attend to them.\n",
      "\n",
      "He has refused to pass other Laws for the accommodation of large districts of\n",
      "people, unless those people would relinquish the right of Representation in the\n",
      "Legislature, a right inestimable to them and formidable to tyrants only. \n",
      "\n",
      "He has called together legislative bodies at places unusual, uncomfortable, and distant\n",
      "from the depository of their public Records, for the sole purpose of fatiguing them into\n",
      "compliance with his measures.\n",
      "\n"
     ]
    }
   ],
   "source": [
    "print(page_one.extractText())"
   ]
  },
  {
   "cell_type": "code",
   "execution_count": 79,
   "id": "bb74bbb1",
   "metadata": {},
   "outputs": [],
   "source": [
    " myfile.close()"
   ]
  },
  {
   "cell_type": "code",
   "execution_count": 80,
   "id": "8896eb31",
   "metadata": {},
   "outputs": [],
   "source": [
    "pdf_writer = PyPDF2.PdfFileWriter()"
   ]
  },
  {
   "cell_type": "code",
   "execution_count": 81,
   "id": "9a9be4ad",
   "metadata": {},
   "outputs": [],
   "source": [
    "pdf_writer.addPage(page_one)"
   ]
  },
  {
   "cell_type": "code",
   "execution_count": 82,
   "id": "a79fc806",
   "metadata": {},
   "outputs": [],
   "source": [
    "pdf_output = open(\"MY_BRAND_NEW.pdf\", 'wb')"
   ]
  },
  {
   "cell_type": "code",
   "execution_count": 84,
   "id": "5d282cdc",
   "metadata": {},
   "outputs": [],
   "source": [
    "pdf_writer.write(pdf_output)\n"
   ]
  },
  {
   "cell_type": "code",
   "execution_count": 85,
   "id": "b5b65c0b",
   "metadata": {},
   "outputs": [],
   "source": [
    "pdf_output.close()"
   ]
  },
  {
   "cell_type": "code",
   "execution_count": 86,
   "id": "730f9f1e",
   "metadata": {},
   "outputs": [
    {
     "data": {
      "text/plain": [
       "1"
      ]
     },
     "execution_count": 86,
     "metadata": {},
     "output_type": "execute_result"
    }
   ],
   "source": [
    "myfile = open(\"MY_BRAND_NEW.pdf\", mode = 'rb')\n",
    "\n",
    "pdf_reader = PyPDF2.PdfFileReader(myfile)\n",
    "\n",
    "pdf_reader.numPages"
   ]
  },
  {
   "cell_type": "code",
   "execution_count": null,
   "id": "656fce73",
   "metadata": {},
   "outputs": [],
   "source": [
    "myfile = open(\"US_Declaration.pdf\", mode = 'rb')\n",
    "pdf_reader = PyPDF2.PdfFileReader(myfile)\n",
    "for num in range(pdf_reader.numPages):\n",
    "    \n",
    "\n"
   ]
  },
  {
   "cell_type": "markdown",
   "id": "ff231730",
   "metadata": {},
   "source": [
    "### Regular Expression - Part One"
   ]
  },
  {
   "cell_type": "code",
   "execution_count": 1,
   "id": "30b6eb8f",
   "metadata": {},
   "outputs": [],
   "source": [
    "import re"
   ]
  },
  {
   "cell_type": "code",
   "execution_count": 2,
   "id": "148c9d64",
   "metadata": {},
   "outputs": [],
   "source": [
    "text = \"my ic number is 980712-03-5599\""
   ]
  },
  {
   "cell_type": "code",
   "execution_count": 5,
   "id": "5e54ee79",
   "metadata": {},
   "outputs": [],
   "source": [
    "pattern = r\"\\d{6}-\\d{2}-\\d{4}\""
   ]
  },
  {
   "cell_type": "code",
   "execution_count": 8,
   "id": "ff699a51",
   "metadata": {},
   "outputs": [
    {
     "data": {
      "text/plain": [
       "'980712-03-5599'"
      ]
     },
     "execution_count": 8,
     "metadata": {},
     "output_type": "execute_result"
    }
   ],
   "source": [
    "re.search(pattern, text).group()"
   ]
  },
  {
   "cell_type": "code",
   "execution_count": 9,
   "id": "a1e5e0ab",
   "metadata": {},
   "outputs": [],
   "source": [
    "text = \"my matric number is WID170031 and my friend matric number is WIF170001\""
   ]
  },
  {
   "cell_type": "code",
   "execution_count": 15,
   "id": "fa551596",
   "metadata": {},
   "outputs": [],
   "source": [
    "pattern = \"\\w{3}\\d{6}\""
   ]
  },
  {
   "cell_type": "code",
   "execution_count": 20,
   "id": "ec7c9687",
   "metadata": {},
   "outputs": [
    {
     "name": "stdout",
     "output_type": "stream",
     "text": [
      "WID170031\n",
      "20 29 WID170031\n",
      "WIF170001\n",
      "61 70 WIF170001\n"
     ]
    }
   ],
   "source": [
    "for each in re.finditer(pattern, text):\n",
    "    print(each.group())\n",
    "    print(each.start(), each.end(), text[each.start(): each.end()])"
   ]
  },
  {
   "cell_type": "markdown",
   "id": "d8e56bc2",
   "metadata": {},
   "source": [
    "### Regular Expression - Part Two"
   ]
  },
  {
   "cell_type": "code",
   "execution_count": 25,
   "id": "bb3ee3ff",
   "metadata": {},
   "outputs": [
    {
     "data": {
      "text/plain": [
       "<re.Match object; span=(14, 20), match='circle'>"
      ]
     },
     "execution_count": 25,
     "metadata": {},
     "output_type": "execute_result"
    }
   ],
   "source": [
    "re.search(\"circle|b2\", \"The count for circle gate is 100.\")"
   ]
  },
  {
   "cell_type": "code",
   "execution_count": 69,
   "id": "15a3e026",
   "metadata": {},
   "outputs": [
    {
     "data": {
      "text/plain": [
       "['cat', 'sat', 'mat', 'tetttat']"
      ]
     },
     "execution_count": 69,
     "metadata": {},
     "output_type": "execute_result"
    }
   ],
   "source": [
    "#starts with white space and ends with \"at\"\n",
    "re.findall(\"\\S+at\", \"The cat sat on the mat. tetttat \")"
   ]
  },
  {
   "cell_type": "markdown",
   "id": "a603f35c",
   "metadata": {},
   "source": [
    "#### Exclusion"
   ]
  },
  {
   "cell_type": "code",
   "execution_count": 77,
   "id": "745b2826",
   "metadata": {},
   "outputs": [
    {
     "data": {
      "text/plain": [
       "['There is ', ' number in this setence which is ', ' and ']"
      ]
     },
     "execution_count": 77,
     "metadata": {},
     "output_type": "execute_result"
    }
   ],
   "source": [
    "re.findall(r\"[^\\d]+\", \"There is 2 number in this setence which is 3 and 4\")"
   ]
  },
  {
   "cell_type": "markdown",
   "id": "0e8f5d00",
   "metadata": {},
   "source": [
    "##### Brackets for Grouping"
   ]
  },
  {
   "cell_type": "code",
   "execution_count": 82,
   "id": "bd59d043",
   "metadata": {},
   "outputs": [
    {
     "data": {
      "text/plain": [
       "['budak-budak', 'main-main', 'buat-buat']"
      ]
     },
     "execution_count": 82,
     "metadata": {},
     "output_type": "execute_result"
    }
   ],
   "source": [
    "re.findall(r\"[\\w]+-[\\w]+\", \"budak-budak ni suka main-main time buat-buat\")"
   ]
  },
  {
   "cell_type": "markdown",
   "id": "cbbf0f14",
   "metadata": {},
   "source": [
    "### Basic Overview"
   ]
  },
  {
   "cell_type": "code",
   "execution_count": null,
   "id": "d34c563f",
   "metadata": {},
   "outputs": [],
   "source": []
  },
  {
   "cell_type": "code",
   "execution_count": null,
   "id": "bdf38102",
   "metadata": {},
   "outputs": [],
   "source": []
  }
 ],
 "metadata": {
  "kernelspec": {
   "display_name": "Python 3",
   "language": "python",
   "name": "python3"
  },
  "language_info": {
   "codemirror_mode": {
    "name": "ipython",
    "version": 3
   },
   "file_extension": ".py",
   "mimetype": "text/x-python",
   "name": "python",
   "nbconvert_exporter": "python",
   "pygments_lexer": "ipython3",
   "version": "3.7.10"
  }
 },
 "nbformat": 4,
 "nbformat_minor": 5
}
